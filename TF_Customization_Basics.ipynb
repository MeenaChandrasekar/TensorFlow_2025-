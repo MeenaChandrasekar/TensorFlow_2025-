{
  "nbformat": 4,
  "nbformat_minor": 0,
  "metadata": {
    "colab": {
      "provenance": []
    },
    "kernelspec": {
      "name": "python3",
      "display_name": "Python 3"
    },
    "language_info": {
      "name": "python"
    }
  },
  "cells": [
    {
      "cell_type": "code",
      "execution_count": 1,
      "metadata": {
        "id": "dN4rr6eRGrLy"
      },
      "outputs": [],
      "source": [
        "!pip install tensorflow tensorflow-text --quiet\n"
      ]
    },
    {
      "cell_type": "code",
      "source": [
        "import tensorflow as tf\n",
        "import numpy as np\n",
        "import time\n"
      ],
      "metadata": {
        "id": "ngoNRJ0LG6rz"
      },
      "execution_count": 2,
      "outputs": []
    },
    {
      "cell_type": "code",
      "source": [
        "# Basic tensor operations\n",
        "print(tf.math.add(1, 2))\n",
        "print(tf.math.add([1, 2], [3, 4]))\n",
        "print(tf.math.square(5))\n",
        "print(tf.math.reduce_sum([1, 2, 3]))\n",
        "\n",
        "# Operator overloading\n",
        "print(tf.math.square(2) + tf.math.square(3))\n"
      ],
      "metadata": {
        "colab": {
          "base_uri": "https://localhost:8080/"
        },
        "id": "eiSmg3c2G_dT",
        "outputId": "281628fa-010b-4de3-a375-ef6c796515dd"
      },
      "execution_count": 3,
      "outputs": [
        {
          "output_type": "stream",
          "name": "stdout",
          "text": [
            "tf.Tensor(3, shape=(), dtype=int32)\n",
            "tf.Tensor([4 6], shape=(2,), dtype=int32)\n",
            "tf.Tensor(25, shape=(), dtype=int32)\n",
            "tf.Tensor(6, shape=(), dtype=int32)\n",
            "tf.Tensor(13, shape=(), dtype=int32)\n"
          ]
        }
      ]
    },
    {
      "cell_type": "code",
      "source": [
        "print(\"Available GPUs:\", tf.config.list_physical_devices('GPU'))\n"
      ],
      "metadata": {
        "colab": {
          "base_uri": "https://localhost:8080/"
        },
        "id": "CTKIrqohHEzv",
        "outputId": "10f5bb84-97ce-4f64-9783-997c352fb161"
      },
      "execution_count": 4,
      "outputs": [
        {
          "output_type": "stream",
          "name": "stdout",
          "text": [
            "Available GPUs: []\n"
          ]
        }
      ]
    },
    {
      "cell_type": "code",
      "source": [
        "def time_matmul(x):\n",
        "    start = time.time()\n",
        "    for _ in range(10):\n",
        "        tf.linalg.matmul(x, x)\n",
        "    print(f\"Time taken: {(time.time() - start) * 1000:.2f}ms\")\n",
        "\n",
        "# CPU Execution\n",
        "print(\"On CPU:\")\n",
        "with tf.device(\"CPU:0\"):\n",
        "    x_cpu = tf.random.uniform([1000, 1000])\n",
        "    time_matmul(x_cpu)\n",
        "\n",
        "# GPU Execution (if available)\n",
        "if tf.config.list_physical_devices(\"GPU\"):\n",
        "    print(\"On GPU:\")\n",
        "    with tf.device(\"GPU:0\"):\n",
        "        x_gpu = tf.random.uniform([1000, 1000])\n",
        "        time_matmul(x_gpu)\n"
      ],
      "metadata": {
        "colab": {
          "base_uri": "https://localhost:8080/"
        },
        "id": "aML8Z0wkHMkL",
        "outputId": "04076fac-6e69-4c8f-cea1-89ff28d3457f"
      },
      "execution_count": 5,
      "outputs": [
        {
          "output_type": "stream",
          "name": "stdout",
          "text": [
            "On CPU:\n",
            "Time taken: 673.25ms\n"
          ]
        }
      ]
    },
    {
      "cell_type": "code",
      "source": [
        "ds = tf.data.Dataset.from_tensor_slices([1, 2, 3, 4, 5, 6])\n",
        "ds = ds.map(tf.math.square).shuffle(2).batch(2)\n",
        "\n",
        "print(\"Dataset elements:\")\n",
        "for x in ds:\n",
        "    print(x.numpy())\n"
      ],
      "metadata": {
        "colab": {
          "base_uri": "https://localhost:8080/"
        },
        "id": "OKLLab8uHV2F",
        "outputId": "4fe61dbf-d17a-42a3-c69c-763ffc89802a"
      },
      "execution_count": 6,
      "outputs": [
        {
          "output_type": "stream",
          "name": "stdout",
          "text": [
            "Dataset elements:\n",
            "[4 9]\n",
            "[16  1]\n",
            "[25 36]\n"
          ]
        }
      ]
    },
    {
      "cell_type": "code",
      "source": [
        "import tempfile\n",
        "\n",
        "_, filename = tempfile.mkstemp()\n",
        "with open(filename, \"w\") as f:\n",
        "    f.write(\"Hello TensorFlow\\nWelcome to Google Colab\\nDeep Learning is awesome\")\n",
        "\n",
        "# Load file as dataset\n",
        "ds_text = tf.data.TextLineDataset(filename).batch(2)\n",
        "\n",
        "print(\"Text File Contents:\")\n",
        "for x in ds_text:\n",
        "    print(x.numpy())\n"
      ],
      "metadata": {
        "colab": {
          "base_uri": "https://localhost:8080/"
        },
        "id": "gZm0wEDHHRdQ",
        "outputId": "bf37bddd-59aa-48c8-f7d7-b6c6d8e3788a"
      },
      "execution_count": 7,
      "outputs": [
        {
          "output_type": "stream",
          "name": "stdout",
          "text": [
            "Text File Contents:\n",
            "[b'Hello TensorFlow' b'Welcome to Google Colab']\n",
            "[b'Deep Learning is awesome']\n"
          ]
        }
      ]
    },
    {
      "cell_type": "code",
      "source": [],
      "metadata": {
        "id": "ErUGl9nzHaYW"
      },
      "execution_count": null,
      "outputs": []
    }
  ]
}