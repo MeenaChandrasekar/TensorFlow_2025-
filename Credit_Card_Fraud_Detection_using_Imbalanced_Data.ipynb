{
  "nbformat": 4,
  "nbformat_minor": 0,
  "metadata": {
    "colab": {
      "provenance": []
    },
    "kernelspec": {
      "name": "python3",
      "display_name": "Python 3"
    },
    "language_info": {
      "name": "python"
    }
  },
  "cells": [
    {
      "cell_type": "code",
      "source": [
        "# ✅ Step 1: Install & Import Dependencies\n",
        "!pip install -q tensorflow numpy pandas scikit-learn matplotlib seaborn\n",
        "\n",
        "import numpy as np\n",
        "import pandas as pd\n",
        "import tensorflow as tf\n",
        "import matplotlib.pyplot as plt\n",
        "import seaborn as sns\n",
        "from sklearn.model_selection import train_test_split\n",
        "from sklearn.preprocessing import StandardScaler\n",
        "from sklearn.utils.class_weight import compute_class_weight\n",
        "from sklearn.metrics import classification_report, confusion_matrix\n",
        "\n",
        "# ✅ Step 2: Load Dataset\n",
        "url = \"https://storage.googleapis.com/download.tensorflow.org/data/creditcard.csv\"\n",
        "df = pd.read_csv(url)\n",
        "\n",
        "# ✅ Step 3: Data Preprocessing\n",
        "# Separate features and target\n",
        "X = df.drop(columns=['Class']).values  # Convert to NumPy array\n",
        "y = df['Class'].values  # Convert to NumPy array\n",
        "\n",
        "# Normalize the Amount column\n",
        "scaler = StandardScaler()\n",
        "X[:, -1] = scaler.fit_transform(X[:, -1].reshape(-1, 1)).flatten()\n",
        "\n",
        "# ✅ Step 4: Train-Test Split\n",
        "X_train, X_test, y_train, y_test = train_test_split(\n",
        "    X, y, test_size=0.2, stratify=y, random_state=42\n",
        ")\n",
        "\n",
        "# ✅ Step 5: Compute Class Weights for Imbalance Handling\n",
        "class_weights = dict(enumerate(\n",
        "    compute_class_weight(class_weight=\"balanced\", classes=np.unique(y_train), y=y_train)\n",
        "))\n",
        "print(\"Class Weights:\", class_weights)\n",
        "\n",
        "# ✅ Step 6: Build Neural Network Model\n",
        "model = tf.keras.Sequential([\n",
        "    tf.keras.layers.Input(shape=(X_train.shape[1],)),  # Input layer\n",
        "    tf.keras.layers.Dense(16, activation='relu'),\n",
        "    tf.keras.layers.Dense(8, activation='relu'),\n",
        "    tf.keras.layers.Dense(1, activation='sigmoid')  # Output layer (binary classification)\n",
        "])\n",
        "\n",
        "model.compile(optimizer='adam',\n",
        "              loss='binary_crossentropy',\n",
        "              metrics=['accuracy'])\n",
        "\n",
        "# ✅ Step 7: Train the Model with Class Weights\n",
        "history = model.fit(\n",
        "    X_train, y_train,\n",
        "    epochs=10,\n",
        "    batch_size=32,\n",
        "    validation_data=(X_test, y_test),\n",
        "    class_weight=class_weights  # Apply class weights\n",
        ")\n",
        "\n",
        "# ✅ Step 8: Model Evaluation\n",
        "y_pred = (model.predict(X_test) > 0.5).astype(\"int32\")  # Convert probabilities to binary values\n",
        "\n",
        "# Classification Report\n",
        "print(\"\\nClassification Report:\\n\", classification_report(y_test, y_pred))\n",
        "\n",
        "# Confusion Matrix Visualization\n",
        "plt.figure(figsize=(6, 4))\n",
        "sns.heatmap(confusion_matrix(y_test, y_pred), annot=True, fmt=\"d\", cmap=\"Blues\")\n",
        "plt.xlabel(\"Predicted\")\n",
        "plt.ylabel(\"Actual\")\n",
        "plt.title(\"Confusion Matrix\")\n",
        "plt.show()\n",
        "\n",
        "# ✅ Step 9: Save & Load Model (Optional)\n",
        "model.save(\"credit_card_fraud_model.h5\")\n",
        "print(\"Model saved successfully!\")\n",
        "\n",
        "# To reload the model later:\n",
        "# loaded_model = tf.keras.models.load_model(\"credit_card_fraud_model.h5\")\n"
      ],
      "metadata": {
        "colab": {
          "base_uri": "https://localhost:8080/",
          "height": 1000
        },
        "id": "oVfH2WRC83EU",
        "outputId": "9e0397ae-a35d-4855-9425-e6dcf57a4101"
      },
      "execution_count": 4,
      "outputs": [
        {
          "output_type": "stream",
          "name": "stdout",
          "text": [
            "Class Weights: {0: 0.5008661206149896, 1: 289.14340101522845}\n",
            "Epoch 1/10\n",
            "\u001b[1m7121/7121\u001b[0m \u001b[32m━━━━━━━━━━━━━━━━━━━━\u001b[0m\u001b[37m\u001b[0m \u001b[1m15s\u001b[0m 2ms/step - accuracy: 0.5597 - loss: 212.0087 - val_accuracy: 0.9943 - val_loss: 0.0448\n",
            "Epoch 2/10\n",
            "\u001b[1m7121/7121\u001b[0m \u001b[32m━━━━━━━━━━━━━━━━━━━━\u001b[0m\u001b[37m\u001b[0m \u001b[1m13s\u001b[0m 2ms/step - accuracy: 0.5555 - loss: 131.0496 - val_accuracy: 0.0037 - val_loss: 143.0824\n",
            "Epoch 3/10\n",
            "\u001b[1m7121/7121\u001b[0m \u001b[32m━━━━━━━━━━━━━━━━━━━━\u001b[0m\u001b[37m\u001b[0m \u001b[1m20s\u001b[0m 2ms/step - accuracy: 0.6349 - loss: 60.8725 - val_accuracy: 0.0492 - val_loss: 2.5508\n",
            "Epoch 4/10\n",
            "\u001b[1m7121/7121\u001b[0m \u001b[32m━━━━━━━━━━━━━━━━━━━━\u001b[0m\u001b[37m\u001b[0m \u001b[1m13s\u001b[0m 2ms/step - accuracy: 0.5740 - loss: 27.7418 - val_accuracy: 0.9982 - val_loss: 0.0607\n",
            "Epoch 5/10\n",
            "\u001b[1m7121/7121\u001b[0m \u001b[32m━━━━━━━━━━━━━━━━━━━━\u001b[0m\u001b[37m\u001b[0m \u001b[1m13s\u001b[0m 2ms/step - accuracy: 0.6592 - loss: 19.4882 - val_accuracy: 0.0063 - val_loss: 41.3840\n",
            "Epoch 6/10\n",
            "\u001b[1m7121/7121\u001b[0m \u001b[32m━━━━━━━━━━━━━━━━━━━━\u001b[0m\u001b[37m\u001b[0m \u001b[1m13s\u001b[0m 2ms/step - accuracy: 0.6147 - loss: 15.6134 - val_accuracy: 0.9993 - val_loss: 0.5155\n",
            "Epoch 7/10\n",
            "\u001b[1m7121/7121\u001b[0m \u001b[32m━━━━━━━━━━━━━━━━━━━━\u001b[0m\u001b[37m\u001b[0m \u001b[1m13s\u001b[0m 2ms/step - accuracy: 0.9444 - loss: 1.0106 - val_accuracy: 0.9986 - val_loss: 0.5503\n",
            "Epoch 8/10\n",
            "\u001b[1m7121/7121\u001b[0m \u001b[32m━━━━━━━━━━━━━━━━━━━━\u001b[0m\u001b[37m\u001b[0m \u001b[1m21s\u001b[0m 2ms/step - accuracy: 0.9287 - loss: 0.5959 - val_accuracy: 0.9983 - val_loss: 0.5596\n",
            "Epoch 9/10\n",
            "\u001b[1m7121/7121\u001b[0m \u001b[32m━━━━━━━━━━━━━━━━━━━━\u001b[0m\u001b[37m\u001b[0m \u001b[1m14s\u001b[0m 2ms/step - accuracy: 0.9958 - loss: 5.3282 - val_accuracy: 0.9982 - val_loss: 0.6063\n",
            "Epoch 10/10\n",
            "\u001b[1m7121/7121\u001b[0m \u001b[32m━━━━━━━━━━━━━━━━━━━━\u001b[0m\u001b[37m\u001b[0m \u001b[1m13s\u001b[0m 2ms/step - accuracy: 0.9953 - loss: 0.6800 - val_accuracy: 0.9981 - val_loss: 0.6021\n",
            "\u001b[1m1781/1781\u001b[0m \u001b[32m━━━━━━━━━━━━━━━━━━━━\u001b[0m\u001b[37m\u001b[0m \u001b[1m2s\u001b[0m 1ms/step\n",
            "\n",
            "Classification Report:\n",
            "               precision    recall  f1-score   support\n",
            "\n",
            "           0       1.00      1.00      1.00     56864\n",
            "           1       0.40      0.23      0.30        98\n",
            "\n",
            "    accuracy                           1.00     56962\n",
            "   macro avg       0.70      0.62      0.65     56962\n",
            "weighted avg       1.00      1.00      1.00     56962\n",
            "\n"
          ]
        },
        {
          "output_type": "display_data",
          "data": {
            "text/plain": [
              "<Figure size 600x400 with 2 Axes>"
            ],
            "image/png": "[encoded data removed]"
          },
          "metadata": {}
        },
        {
          "output_type": "stream",
          "name": "stderr",
          "text": [
            "WARNING:absl:You are saving your model as an HDF5 file via `model.save()` or `keras.saving.save_model(model)`. This file format is considered legacy. We recommend using instead the native Keras format, e.g. `model.save('my_model.keras')` or `keras.saving.save_model(model, 'my_model.keras')`. \n"
          ]
        },
        {
          "output_type": "stream",
          "name": "stdout",
          "text": [
            "Model saved successfully!\n"
          ]
        }
      ]
    },
    {
      "cell_type": "code",
      "source": [],
      "metadata": {
        "id": "c4sAiYS8-G_x"
      },
      "execution_count": null,
      "outputs": []
    }
  ]
}