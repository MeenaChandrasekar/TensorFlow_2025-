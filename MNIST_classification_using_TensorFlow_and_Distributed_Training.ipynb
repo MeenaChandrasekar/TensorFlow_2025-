{
  "nbformat": 4,
  "nbformat_minor": 0,
  "metadata": {
    "colab": {
      "provenance": []
    },
    "kernelspec": {
      "name": "python3",
      "display_name": "Python 3"
    },
    "language_info": {
      "name": "python"
    },
    "widgets": {
      "application/vnd.jupyter.widget-state+json": {
        "5422c50bf4824c1aaa5e8d6e7b36620b": {
          "model_module": "@jupyter-widgets/controls",
          "model_name": "HBoxModel",
          "model_module_version": "1.5.0",
          "state": {
            "_dom_classes": [],
            "_model_module": "@jupyter-widgets/controls",
            "_model_module_version": "1.5.0",
            "_model_name": "HBoxModel",
            "_view_count": null,
            "_view_module": "@jupyter-widgets/controls",
            "_view_module_version": "1.5.0",
            "_view_name": "HBoxView",
            "box_style": "",
            "children": [
              "IPY_MODEL_e7c55012231841009f87a40b61cd5b2e",
              "IPY_MODEL_95daec65e357420083db90b38ff164d2",
              "IPY_MODEL_105e2ca40d4c485096fdddca744e0b34"
            ],
            "layout": "IPY_MODEL_b0f39b6657864d43af58e7d4739be69e"
          }
        },
        "e7c55012231841009f87a40b61cd5b2e": {
          "model_module": "@jupyter-widgets/controls",
          "model_name": "HTMLModel",
          "model_module_version": "1.5.0",
          "state": {
            "_dom_classes": [],
            "_model_module": "@jupyter-widgets/controls",
            "_model_module_version": "1.5.0",
            "_model_name": "HTMLModel",
            "_view_count": null,
            "_view_module": "@jupyter-widgets/controls",
            "_view_module_version": "1.5.0",
            "_view_name": "HTMLView",
            "description": "",
            "description_tooltip": null,
            "layout": "IPY_MODEL_d85e5977ac52486b8ffb29c0fcd2fecd",
            "placeholder": "​",
            "style": "IPY_MODEL_82b0df63dd20465baea71475f1e94596",
            "value": "Dl Completed...: 100%"
          }
        },
        "95daec65e357420083db90b38ff164d2": {
          "model_module": "@jupyter-widgets/controls",
          "model_name": "FloatProgressModel",
          "model_module_version": "1.5.0",
          "state": {
            "_dom_classes": [],
            "_model_module": "@jupyter-widgets/controls",
            "_model_module_version": "1.5.0",
            "_model_name": "FloatProgressModel",
            "_view_count": null,
            "_view_module": "@jupyter-widgets/controls",
            "_view_module_version": "1.5.0",
            "_view_name": "ProgressView",
            "bar_style": "success",
            "description": "",
            "description_tooltip": null,
            "layout": "IPY_MODEL_68b9f9fd879847fdb3016a9daa002090",
            "max": 5,
            "min": 0,
            "orientation": "horizontal",
            "style": "IPY_MODEL_e422246d80f943218b621fffc1a248f8",
            "value": 5
          }
        },
        "105e2ca40d4c485096fdddca744e0b34": {
          "model_module": "@jupyter-widgets/controls",
          "model_name": "HTMLModel",
          "model_module_version": "1.5.0",
          "state": {
            "_dom_classes": [],
            "_model_module": "@jupyter-widgets/controls",
            "_model_module_version": "1.5.0",
            "_model_name": "HTMLModel",
            "_view_count": null,
            "_view_module": "@jupyter-widgets/controls",
            "_view_module_version": "1.5.0",
            "_view_name": "HTMLView",
            "description": "",
            "description_tooltip": null,
            "layout": "IPY_MODEL_311bfebb1ab443fbbb9f55e7a4ebfc96",
            "placeholder": "​",
            "style": "IPY_MODEL_78ce5a4518ff4e9d9d2469537da45660",
            "value": " 5/5 [00:00&lt;00:00,  7.54 file/s]"
          }
        },
        "b0f39b6657864d43af58e7d4739be69e": {
          "model_module": "@jupyter-widgets/base",
          "model_name": "LayoutModel",
          "model_module_version": "1.2.0",
          "state": {
            "_model_module": "@jupyter-widgets/base",
            "_model_module_version": "1.2.0",
            "_model_name": "LayoutModel",
            "_view_count": null,
            "_view_module": "@jupyter-widgets/base",
            "_view_module_version": "1.2.0",
            "_view_name": "LayoutView",
            "align_content": null,
            "align_items": null,
            "align_self": null,
            "border": null,
            "bottom": null,
            "display": null,
            "flex": null,
            "flex_flow": null,
            "grid_area": null,
            "grid_auto_columns": null,
            "grid_auto_flow": null,
            "grid_auto_rows": null,
            "grid_column": null,
            "grid_gap": null,
            "grid_row": null,
            "grid_template_areas": null,
            "grid_template_columns": null,
            "grid_template_rows": null,
            "height": null,
            "justify_content": null,
            "justify_items": null,
            "left": null,
            "margin": null,
            "max_height": null,
            "max_width": null,
            "min_height": null,
            "min_width": null,
            "object_fit": null,
            "object_position": null,
            "order": null,
            "overflow": null,
            "overflow_x": null,
            "overflow_y": null,
            "padding": null,
            "right": null,
            "top": null,
            "visibility": null,
            "width": null
          }
        },
        "d85e5977ac52486b8ffb29c0fcd2fecd": {
          "model_module": "@jupyter-widgets/base",
          "model_name": "LayoutModel",
          "model_module_version": "1.2.0",
          "state": {
            "_model_module": "@jupyter-widgets/base",
            "_model_module_version": "1.2.0",
            "_model_name": "LayoutModel",
            "_view_count": null,
            "_view_module": "@jupyter-widgets/base",
            "_view_module_version": "1.2.0",
            "_view_name": "LayoutView",
            "align_content": null,
            "align_items": null,
            "align_self": null,
            "border": null,
            "bottom": null,
            "display": null,
            "flex": null,
            "flex_flow": null,
            "grid_area": null,
            "grid_auto_columns": null,
            "grid_auto_flow": null,
            "grid_auto_rows": null,
            "grid_column": null,
            "grid_gap": null,
            "grid_row": null,
            "grid_template_areas": null,
            "grid_template_columns": null,
            "grid_template_rows": null,
            "height": null,
            "justify_content": null,
            "justify_items": null,
            "left": null,
            "margin": null,
            "max_height": null,
            "max_width": null,
            "min_height": null,
            "min_width": null,
            "object_fit": null,
            "object_position": null,
            "order": null,
            "overflow": null,
            "overflow_x": null,
            "overflow_y": null,
            "padding": null,
            "right": null,
            "top": null,
            "visibility": null,
            "width": null
          }
        },
        "82b0df63dd20465baea71475f1e94596": {
          "model_module": "@jupyter-widgets/controls",
          "model_name": "DescriptionStyleModel",
          "model_module_version": "1.5.0",
          "state": {
            "_model_module": "@jupyter-widgets/controls",
            "_model_module_version": "1.5.0",
            "_model_name": "DescriptionStyleModel",
            "_view_count": null,
            "_view_module": "@jupyter-widgets/base",
            "_view_module_version": "1.2.0",
            "_view_name": "StyleView",
            "description_width": ""
          }
        },
        "68b9f9fd879847fdb3016a9daa002090": {
          "model_module": "@jupyter-widgets/base",
          "model_name": "LayoutModel",
          "model_module_version": "1.2.0",
          "state": {
            "_model_module": "@jupyter-widgets/base",
            "_model_module_version": "1.2.0",
            "_model_name": "LayoutModel",
            "_view_count": null,
            "_view_module": "@jupyter-widgets/base",
            "_view_module_version": "1.2.0",
            "_view_name": "LayoutView",
            "align_content": null,
            "align_items": null,
            "align_self": null,
            "border": null,
            "bottom": null,
            "display": null,
            "flex": null,
            "flex_flow": null,
            "grid_area": null,
            "grid_auto_columns": null,
            "grid_auto_flow": null,
            "grid_auto_rows": null,
            "grid_column": null,
            "grid_gap": null,
            "grid_row": null,
            "grid_template_areas": null,
            "grid_template_columns": null,
            "grid_template_rows": null,
            "height": null,
            "justify_content": null,
            "justify_items": null,
            "left": null,
            "margin": null,
            "max_height": null,
            "max_width": null,
            "min_height": null,
            "min_width": null,
            "object_fit": null,
            "object_position": null,
            "order": null,
            "overflow": null,
            "overflow_x": null,
            "overflow_y": null,
            "padding": null,
            "right": null,
            "top": null,
            "visibility": null,
            "width": null
          }
        },
        "e422246d80f943218b621fffc1a248f8": {
          "model_module": "@jupyter-widgets/controls",
          "model_name": "ProgressStyleModel",
          "model_module_version": "1.5.0",
          "state": {
            "_model_module": "@jupyter-widgets/controls",
            "_model_module_version": "1.5.0",
            "_model_name": "ProgressStyleModel",
            "_view_count": null,
            "_view_module": "@jupyter-widgets/base",
            "_view_module_version": "1.2.0",
            "_view_name": "StyleView",
            "bar_color": null,
            "description_width": ""
          }
        },
        "311bfebb1ab443fbbb9f55e7a4ebfc96": {
          "model_module": "@jupyter-widgets/base",
          "model_name": "LayoutModel",
          "model_module_version": "1.2.0",
          "state": {
            "_model_module": "@jupyter-widgets/base",
            "_model_module_version": "1.2.0",
            "_model_name": "LayoutModel",
            "_view_count": null,
            "_view_module": "@jupyter-widgets/base",
            "_view_module_version": "1.2.0",
            "_view_name": "LayoutView",
            "align_content": null,
            "align_items": null,
            "align_self": null,
            "border": null,
            "bottom": null,
            "display": null,
            "flex": null,
            "flex_flow": null,
            "grid_area": null,
            "grid_auto_columns": null,
            "grid_auto_flow": null,
            "grid_auto_rows": null,
            "grid_column": null,
            "grid_gap": null,
            "grid_row": null,
            "grid_template_areas": null,
            "grid_template_columns": null,
            "grid_template_rows": null,
            "height": null,
            "justify_content": null,
            "justify_items": null,
            "left": null,
            "margin": null,
            "max_height": null,
            "max_width": null,
            "min_height": null,
            "min_width": null,
            "object_fit": null,
            "object_position": null,
            "order": null,
            "overflow": null,
            "overflow_x": null,
            "overflow_y": null,
            "padding": null,
            "right": null,
            "top": null,
            "visibility": null,
            "width": null
          }
        },
        "78ce5a4518ff4e9d9d2469537da45660": {
          "model_module": "@jupyter-widgets/controls",
          "model_name": "DescriptionStyleModel",
          "model_module_version": "1.5.0",
          "state": {
            "_model_module": "@jupyter-widgets/controls",
            "_model_module_version": "1.5.0",
            "_model_name": "DescriptionStyleModel",
            "_view_count": null,
            "_view_module": "@jupyter-widgets/base",
            "_view_module_version": "1.2.0",
            "_view_name": "StyleView",
            "description_width": ""
          }
        }
      }
    }
  },
  "cells": [
    {
      "cell_type": "code",
      "execution_count": 1,
      "metadata": {
        "colab": {
          "base_uri": "https://localhost:8080/"
        },
        "id": "ZvY_UNqQTUpi",
        "outputId": "ad36137c-9887-45e0-8333-250dd2be4cd8"
      },
      "outputs": [
        {
          "output_type": "stream",
          "name": "stdout",
          "text": [
            "Requirement already satisfied: tensorflow in /usr/local/lib/python3.11/dist-packages (2.18.0)\n",
            "Requirement already satisfied: tensorflow_hub in /usr/local/lib/python3.11/dist-packages (0.16.1)\n",
            "Requirement already satisfied: tensorflow_datasets in /usr/local/lib/python3.11/dist-packages (4.9.7)\n",
            "Requirement already satisfied: absl-py>=1.0.0 in /usr/local/lib/python3.11/dist-packages (from tensorflow) (1.4.0)\n",
            "Requirement already satisfied: astunparse>=1.6.0 in /usr/local/lib/python3.11/dist-packages (from tensorflow) (1.6.3)\n",
            "Requirement already satisfied: flatbuffers>=24.3.25 in /usr/local/lib/python3.11/dist-packages (from tensorflow) (25.2.10)\n",
            "Requirement already satisfied: gast!=0.5.0,!=0.5.1,!=0.5.2,>=0.2.1 in /usr/local/lib/python3.11/dist-packages (from tensorflow) (0.6.0)\n",
            "Requirement already satisfied: google-pasta>=0.1.1 in /usr/local/lib/python3.11/dist-packages (from tensorflow) (0.2.0)\n",
            "Requirement already satisfied: libclang>=13.0.0 in /usr/local/lib/python3.11/dist-packages (from tensorflow) (18.1.1)\n",
            "Requirement already satisfied: opt-einsum>=2.3.2 in /usr/local/lib/python3.11/dist-packages (from tensorflow) (3.4.0)\n",
            "Requirement already satisfied: packaging in /usr/local/lib/python3.11/dist-packages (from tensorflow) (24.2)\n",
            "Requirement already satisfied: protobuf!=4.21.0,!=4.21.1,!=4.21.2,!=4.21.3,!=4.21.4,!=4.21.5,<6.0.0dev,>=3.20.3 in /usr/local/lib/python3.11/dist-packages (from tensorflow) (4.25.6)\n",
            "Requirement already satisfied: requests<3,>=2.21.0 in /usr/local/lib/python3.11/dist-packages (from tensorflow) (2.32.3)\n",
            "Requirement already satisfied: setuptools in /usr/local/lib/python3.11/dist-packages (from tensorflow) (75.1.0)\n",
            "Requirement already satisfied: six>=1.12.0 in /usr/local/lib/python3.11/dist-packages (from tensorflow) (1.17.0)\n",
            "Requirement already satisfied: termcolor>=1.1.0 in /usr/local/lib/python3.11/dist-packages (from tensorflow) (2.5.0)\n",
            "Requirement already satisfied: typing-extensions>=3.6.6 in /usr/local/lib/python3.11/dist-packages (from tensorflow) (4.12.2)\n",
            "Requirement already satisfied: wrapt>=1.11.0 in /usr/local/lib/python3.11/dist-packages (from tensorflow) (1.17.2)\n",
            "Requirement already satisfied: grpcio<2.0,>=1.24.3 in /usr/local/lib/python3.11/dist-packages (from tensorflow) (1.70.0)\n",
            "Requirement already satisfied: tensorboard<2.19,>=2.18 in /usr/local/lib/python3.11/dist-packages (from tensorflow) (2.18.0)\n",
            "Requirement already satisfied: keras>=3.5.0 in /usr/local/lib/python3.11/dist-packages (from tensorflow) (3.8.0)\n",
            "Requirement already satisfied: numpy<2.1.0,>=1.26.0 in /usr/local/lib/python3.11/dist-packages (from tensorflow) (1.26.4)\n",
            "Requirement already satisfied: h5py>=3.11.0 in /usr/local/lib/python3.11/dist-packages (from tensorflow) (3.12.1)\n",
            "Requirement already satisfied: ml-dtypes<0.5.0,>=0.4.0 in /usr/local/lib/python3.11/dist-packages (from tensorflow) (0.4.1)\n",
            "Requirement already satisfied: tensorflow-io-gcs-filesystem>=0.23.1 in /usr/local/lib/python3.11/dist-packages (from tensorflow) (0.37.1)\n",
            "Requirement already satisfied: tf-keras>=2.14.1 in /usr/local/lib/python3.11/dist-packages (from tensorflow_hub) (2.18.0)\n",
            "Requirement already satisfied: click in /usr/local/lib/python3.11/dist-packages (from tensorflow_datasets) (8.1.8)\n",
            "Requirement already satisfied: dm-tree in /usr/local/lib/python3.11/dist-packages (from tensorflow_datasets) (0.1.9)\n",
            "Requirement already satisfied: immutabledict in /usr/local/lib/python3.11/dist-packages (from tensorflow_datasets) (4.2.1)\n",
            "Requirement already satisfied: promise in /usr/local/lib/python3.11/dist-packages (from tensorflow_datasets) (2.3)\n",
            "Requirement already satisfied: psutil in /usr/local/lib/python3.11/dist-packages (from tensorflow_datasets) (5.9.5)\n",
            "Requirement already satisfied: pyarrow in /usr/local/lib/python3.11/dist-packages (from tensorflow_datasets) (17.0.0)\n",
            "Requirement already satisfied: simple-parsing in /usr/local/lib/python3.11/dist-packages (from tensorflow_datasets) (0.1.7)\n",
            "Requirement already satisfied: tensorflow-metadata in /usr/local/lib/python3.11/dist-packages (from tensorflow_datasets) (1.16.1)\n",
            "Requirement already satisfied: toml in /usr/local/lib/python3.11/dist-packages (from tensorflow_datasets) (0.10.2)\n",
            "Requirement already satisfied: tqdm in /usr/local/lib/python3.11/dist-packages (from tensorflow_datasets) (4.67.1)\n",
            "Requirement already satisfied: array-record>=0.5.0 in /usr/local/lib/python3.11/dist-packages (from tensorflow_datasets) (0.6.0)\n",
            "Requirement already satisfied: etils>=1.9.1 in /usr/local/lib/python3.11/dist-packages (from etils[edc,enp,epath,epy,etree]>=1.9.1; python_version >= \"3.11\"->tensorflow_datasets) (1.12.0)\n",
            "Requirement already satisfied: wheel<1.0,>=0.23.0 in /usr/local/lib/python3.11/dist-packages (from astunparse>=1.6.0->tensorflow) (0.45.1)\n",
            "Requirement already satisfied: fsspec in /usr/local/lib/python3.11/dist-packages (from etils[edc,enp,epath,epy,etree]>=1.9.1; python_version >= \"3.11\"->tensorflow_datasets) (2024.10.0)\n",
            "Requirement already satisfied: importlib_resources in /usr/local/lib/python3.11/dist-packages (from etils[edc,enp,epath,epy,etree]>=1.9.1; python_version >= \"3.11\"->tensorflow_datasets) (6.5.2)\n",
            "Requirement already satisfied: zipp in /usr/local/lib/python3.11/dist-packages (from etils[edc,enp,epath,epy,etree]>=1.9.1; python_version >= \"3.11\"->tensorflow_datasets) (3.21.0)\n",
            "Requirement already satisfied: rich in /usr/local/lib/python3.11/dist-packages (from keras>=3.5.0->tensorflow) (13.9.4)\n",
            "Requirement already satisfied: namex in /usr/local/lib/python3.11/dist-packages (from keras>=3.5.0->tensorflow) (0.0.8)\n",
            "Requirement already satisfied: optree in /usr/local/lib/python3.11/dist-packages (from keras>=3.5.0->tensorflow) (0.14.0)\n",
            "Requirement already satisfied: charset-normalizer<4,>=2 in /usr/local/lib/python3.11/dist-packages (from requests<3,>=2.21.0->tensorflow) (3.4.1)\n",
            "Requirement already satisfied: idna<4,>=2.5 in /usr/local/lib/python3.11/dist-packages (from requests<3,>=2.21.0->tensorflow) (3.10)\n",
            "Requirement already satisfied: urllib3<3,>=1.21.1 in /usr/local/lib/python3.11/dist-packages (from requests<3,>=2.21.0->tensorflow) (2.3.0)\n",
            "Requirement already satisfied: certifi>=2017.4.17 in /usr/local/lib/python3.11/dist-packages (from requests<3,>=2.21.0->tensorflow) (2025.1.31)\n",
            "Requirement already satisfied: markdown>=2.6.8 in /usr/local/lib/python3.11/dist-packages (from tensorboard<2.19,>=2.18->tensorflow) (3.7)\n",
            "Requirement already satisfied: tensorboard-data-server<0.8.0,>=0.7.0 in /usr/local/lib/python3.11/dist-packages (from tensorboard<2.19,>=2.18->tensorflow) (0.7.2)\n",
            "Requirement already satisfied: werkzeug>=1.0.1 in /usr/local/lib/python3.11/dist-packages (from tensorboard<2.19,>=2.18->tensorflow) (3.1.3)\n",
            "Requirement already satisfied: attrs>=18.2.0 in /usr/local/lib/python3.11/dist-packages (from dm-tree->tensorflow_datasets) (25.1.0)\n",
            "Requirement already satisfied: docstring-parser<1.0,>=0.15 in /usr/local/lib/python3.11/dist-packages (from simple-parsing->tensorflow_datasets) (0.16)\n",
            "Requirement already satisfied: googleapis-common-protos<2,>=1.56.4 in /usr/local/lib/python3.11/dist-packages (from tensorflow-metadata->tensorflow_datasets) (1.66.0)\n",
            "Requirement already satisfied: MarkupSafe>=2.1.1 in /usr/local/lib/python3.11/dist-packages (from werkzeug>=1.0.1->tensorboard<2.19,>=2.18->tensorflow) (3.0.2)\n",
            "Requirement already satisfied: markdown-it-py>=2.2.0 in /usr/local/lib/python3.11/dist-packages (from rich->keras>=3.5.0->tensorflow) (3.0.0)\n",
            "Requirement already satisfied: pygments<3.0.0,>=2.13.0 in /usr/local/lib/python3.11/dist-packages (from rich->keras>=3.5.0->tensorflow) (2.18.0)\n",
            "Requirement already satisfied: mdurl~=0.1 in /usr/local/lib/python3.11/dist-packages (from markdown-it-py>=2.2.0->rich->keras>=3.5.0->tensorflow) (0.1.2)\n"
          ]
        }
      ],
      "source": [
        "!pip install tensorflow tensorflow_hub tensorflow_datasets"
      ]
    },
    {
      "cell_type": "code",
      "source": [
        "import tensorflow as tf\n",
        "import tensorflow_hub as hub\n",
        "import tensorflow_datasets as tfds\n"
      ],
      "metadata": {
        "id": "aMuIQOV3TwG6"
      },
      "execution_count": 2,
      "outputs": []
    },
    {
      "cell_type": "code",
      "source": [
        "def get_data():\n",
        "    datasets = tfds.load(name='mnist', as_supervised=True)\n",
        "    mnist_train, mnist_test = datasets['train'], datasets['test']\n",
        "\n",
        "    BUFFER_SIZE = 10000\n",
        "    BATCH_SIZE = 64\n",
        "\n",
        "    def scale(image, label):\n",
        "        image = tf.cast(image, tf.float32) / 255.0\n",
        "        return image, label\n",
        "\n",
        "    train_dataset = mnist_train.map(scale).shuffle(BUFFER_SIZE).batch(BATCH_SIZE)\n",
        "    eval_dataset = mnist_test.map(scale).batch(BATCH_SIZE)\n",
        "\n",
        "    return train_dataset, eval_dataset\n",
        "\n",
        "train_dataset, eval_dataset = get_data()\n"
      ],
      "metadata": {
        "colab": {
          "base_uri": "https://localhost:8080/",
          "height": 84,
          "referenced_widgets": [
            "5422c50bf4824c1aaa5e8d6e7b36620b",
            "e7c55012231841009f87a40b61cd5b2e",
            "95daec65e357420083db90b38ff164d2",
            "105e2ca40d4c485096fdddca744e0b34",
            "b0f39b6657864d43af58e7d4739be69e",
            "d85e5977ac52486b8ffb29c0fcd2fecd",
            "82b0df63dd20465baea71475f1e94596",
            "68b9f9fd879847fdb3016a9daa002090",
            "e422246d80f943218b621fffc1a248f8",
            "311bfebb1ab443fbbb9f55e7a4ebfc96",
            "78ce5a4518ff4e9d9d2469537da45660"
          ]
        },
        "id": "fA2Izq_HT8Kj",
        "outputId": "cecbba76-af21-4ea7-8b96-950088d70cd6"
      },
      "execution_count": 3,
      "outputs": [
        {
          "output_type": "stream",
          "name": "stdout",
          "text": [
            "Downloading and preparing dataset 11.06 MiB (download: 11.06 MiB, generated: 21.00 MiB, total: 32.06 MiB) to /root/tensorflow_datasets/mnist/3.0.1...\n"
          ]
        },
        {
          "output_type": "display_data",
          "data": {
            "text/plain": [
              "Dl Completed...:   0%|          | 0/5 [00:00<?, ? file/s]"
            ],
            "application/vnd.jupyter.widget-view+json": {
              "version_major": 2,
              "version_minor": 0,
              "model_id": "5422c50bf4824c1aaa5e8d6e7b36620b"
            }
          },
          "metadata": {}
        },
        {
          "output_type": "stream",
          "name": "stdout",
          "text": [
            "Dataset mnist downloaded and prepared to /root/tensorflow_datasets/mnist/3.0.1. Subsequent calls will reuse this data.\n"
          ]
        }
      ]
    },
    {
      "cell_type": "code",
      "source": [
        "def get_model():\n",
        "    model = tf.keras.Sequential([\n",
        "        tf.keras.layers.Conv2D(32, 3, activation='relu', input_shape=(28, 28, 1)),\n",
        "        tf.keras.layers.MaxPooling2D(),\n",
        "        tf.keras.layers.Flatten(),\n",
        "        tf.keras.layers.Dense(64, activation='relu'),\n",
        "        tf.keras.layers.Dense(10)\n",
        "    ])\n",
        "\n",
        "    model.compile(loss=tf.keras.losses.SparseCategoricalCrossentropy(from_logits=True),\n",
        "                  optimizer=tf.keras.optimizers.Adam(),\n",
        "                  metrics=['accuracy'])\n",
        "    return model\n",
        "\n",
        "model = get_model()\n",
        "model.fit(train_dataset, epochs=2)\n"
      ],
      "metadata": {
        "colab": {
          "base_uri": "https://localhost:8080/"
        },
        "id": "d2KNlxMgT_q8",
        "outputId": "2b28a3bc-3126-41a0-a926-5b08528a9653"
      },
      "execution_count": 4,
      "outputs": [
        {
          "output_type": "stream",
          "name": "stderr",
          "text": [
            "/usr/local/lib/python3.11/dist-packages/keras/src/layers/convolutional/base_conv.py:107: UserWarning: Do not pass an `input_shape`/`input_dim` argument to a layer. When using Sequential models, prefer using an `Input(shape)` object as the first layer in the model instead.\n",
            "  super().__init__(activity_regularizer=activity_regularizer, **kwargs)\n"
          ]
        },
        {
          "output_type": "stream",
          "name": "stdout",
          "text": [
            "Epoch 1/2\n",
            "\u001b[1m938/938\u001b[0m \u001b[32m━━━━━━━━━━━━━━━━━━━━\u001b[0m\u001b[37m\u001b[0m \u001b[1m37s\u001b[0m 35ms/step - accuracy: 0.8811 - loss: 0.4098\n",
            "Epoch 2/2\n",
            "\u001b[1m938/938\u001b[0m \u001b[32m━━━━━━━━━━━━━━━━━━━━\u001b[0m\u001b[37m\u001b[0m \u001b[1m29s\u001b[0m 30ms/step - accuracy: 0.9768 - loss: 0.0781\n"
          ]
        },
        {
          "output_type": "execute_result",
          "data": {
            "text/plain": [
              "<keras.src.callbacks.history.History at 0x783505a38990>"
            ]
          },
          "metadata": {},
          "execution_count": 4
        }
      ]
    },
    {
      "cell_type": "code",
      "source": [],
      "metadata": {
        "id": "B2nOanu7UC-I"
      },
      "execution_count": null,
      "outputs": []
    },
    {
      "cell_type": "code",
      "source": [
        "keras_model_path = '/content/keras_model.keras'\n",
        "model.save(keras_model_path)\n"
      ],
      "metadata": {
        "id": "suuKi3_2UUmz"
      },
      "execution_count": 5,
      "outputs": []
    },
    {
      "cell_type": "code",
      "source": [
        "restored_model = tf.keras.models.load_model(keras_model_path)\n",
        "restored_model.fit(train_dataset, epochs=2)  # Continue training\n"
      ],
      "metadata": {
        "colab": {
          "base_uri": "https://localhost:8080/"
        },
        "id": "GEx-pg1hUY6B",
        "outputId": "d208e3b0-bd6f-4a59-8b5d-624176842f30"
      },
      "execution_count": 6,
      "outputs": [
        {
          "output_type": "stream",
          "name": "stdout",
          "text": [
            "Epoch 1/2\n",
            "\u001b[1m938/938\u001b[0m \u001b[32m━━━━━━━━━━━━━━━━━━━━\u001b[0m\u001b[37m\u001b[0m \u001b[1m34s\u001b[0m 35ms/step - accuracy: 0.9846 - loss: 0.0533\n",
            "Epoch 2/2\n",
            "\u001b[1m938/938\u001b[0m \u001b[32m━━━━━━━━━━━━━━━━━━━━\u001b[0m\u001b[37m\u001b[0m \u001b[1m37s\u001b[0m 30ms/step - accuracy: 0.9884 - loss: 0.0402\n"
          ]
        },
        {
          "output_type": "execute_result",
          "data": {
            "text/plain": [
              "<keras.src.callbacks.history.History at 0x783504655610>"
            ]
          },
          "metadata": {},
          "execution_count": 6
        }
      ]
    },
    {
      "cell_type": "code",
      "source": [],
      "metadata": {
        "id": "0XRLCru_UbPd"
      },
      "execution_count": null,
      "outputs": []
    },
    {
      "cell_type": "code",
      "source": [
        "saved_model_path = \"/content/saved_model\"\n",
        "tf.saved_model.save(model, saved_model_path)\n"
      ],
      "metadata": {
        "id": "jIfC8ULYUdsI"
      },
      "execution_count": null,
      "outputs": []
    },
    {
      "cell_type": "code",
      "source": [
        "tf.saved_model.save(model, saved_model_path)\n"
      ],
      "metadata": {
        "id": "xBpPlsWoU8yU"
      },
      "execution_count": 10,
      "outputs": []
    },
    {
      "cell_type": "code",
      "source": [
        "saved_model_path = \"/content/saved_model\"  # Define the path again\n",
        "loaded = tf.saved_model.load(saved_model_path)\n",
        "inference_func = loaded.signatures[\"serving_default\"]\n",
        "\n",
        "for image, label in eval_dataset.take(1):\n",
        "    print(inference_func(image))\n"
      ],
      "metadata": {
        "colab": {
          "base_uri": "https://localhost:8080/"
        },
        "id": "z-plbGv_VBh3",
        "outputId": "d21b21f2-39ad-4230-e2c2-88690bd184f2"
      },
      "execution_count": 11,
      "outputs": [
        {
          "output_type": "stream",
          "name": "stdout",
          "text": [
            "{'output_0': <tf.Tensor: shape=(64, 10), dtype=float32, numpy=\n",
            "array([[ -2.417013  ,  -1.0697418 ,  16.095827  ,   1.8225973 ,\n",
            "          1.7944095 ,  -1.5048654 ,  -4.393439  ,  -1.9254258 ,\n",
            "          4.880852  ,   2.1309254 ],\n",
            "       [ 13.394815  ,  -6.7701907 ,   0.8087504 ,  -7.336992  ,\n",
            "        -11.771863  ,   4.139698  ,   2.427309  ,  -5.1533046 ,\n",
            "          4.426559  ,  -1.3959538 ],\n",
            "       [ -2.4256687 ,  -3.0347154 ,  -1.6079118 ,  -1.2845442 ,\n",
            "         12.9567    ,  -1.1781021 ,  -2.6209297 ,   4.776591  ,\n",
            "          1.6451836 ,   4.824807  ],\n",
            "       [ -2.4310584 ,  -3.980094  ,   2.0302224 ,   3.407247  ,\n",
            "         -4.788639  ,  -0.52263224,  -0.968201  ,  -2.5918822 ,\n",
            "         12.541449  ,  -2.4557989 ],\n",
            "       [ -0.17491001,  -3.0566306 ,   3.2995272 ,   1.1517582 ,\n",
            "         -5.9395404 ,  -0.6242918 ,  -9.245918  ,  13.989462  ,\n",
            "          1.6769426 ,   2.3984108 ],\n",
            "       [ -0.4661992 ,  -7.2861886 ,  -1.1645077 ,  -3.4807546 ,\n",
            "         -3.107708  ,   3.1324415 ,  13.423988  , -11.343577  ,\n",
            "         -0.43401495,  -2.0048523 ],\n",
            "       [ 14.123733  ,  -4.790836  ,   2.5177648 ,  -4.588515  ,\n",
            "        -13.304626  ,   1.8341985 ,  -1.1544567 ,   1.2759241 ,\n",
            "          3.7732015 ,  -1.0855744 ],\n",
            "       [ -0.21385764,  -7.0697904 ,  -3.258575  ,  -1.5679209 ,\n",
            "         -4.415875  ,   2.1903641 ,  10.290378  , -10.761377  ,\n",
            "          2.8476098 ,  -2.770039  ],\n",
            "       [ -6.3907323 ,  -1.5735521 ,   1.5625764 ,  11.891899  ,\n",
            "         -7.7795677 ,   5.7492657 ,  -4.2269125 ,  -6.6618743 ,\n",
            "          3.5874486 ,  -3.7823505 ],\n",
            "       [ -1.846595  ,   8.138618  ,   2.044743  ,  -2.9564476 ,\n",
            "         -3.2971914 ,  -4.5629644 ,  -1.2929715 ,  -0.7331265 ,\n",
            "          0.07449528,  -5.6781244 ],\n",
            "       [ -6.1387444 ,  -4.2067256 ,   0.19890358,   0.14526264,\n",
            "         -3.699251  ,   7.099372  ,   3.21597   ,  -5.2954135 ,\n",
            "         13.437043  ,  -4.9718356 ],\n",
            "       [ 12.682677  ,  -3.5804222 ,   4.0545006 ,  -3.6348    ,\n",
            "         -3.8470006 ,  -2.378997  ,   3.8586683 ,  -2.867987  ,\n",
            "          0.44901273,  -0.81619096],\n",
            "       [ -0.8549743 ,  -0.20281424,   2.9293618 ,   4.6511345 ,\n",
            "         -7.2711463 ,  -1.4805171 , -12.449597  ,  10.582797  ,\n",
            "         -2.3637621 ,   3.4841938 ],\n",
            "       [ -3.7753522 ,  -2.6344461 ,  -0.7879853 ,   3.7282567 ,\n",
            "          3.779624  ,  -0.31310153,  -8.67175   ,   4.7719193 ,\n",
            "          4.994414  ,   9.163981  ],\n",
            "       [  0.6139985 ,  -6.603621  ,   3.1332843 ,   3.1398308 ,\n",
            "         -3.2756214 ,  -0.65476024,  -3.9421887 ,  -0.07943077,\n",
            "         14.199041  ,  -0.6610863 ],\n",
            "       [  3.3735263 ,  -7.5731215 ,   3.7003925 ,  -4.79481   ,\n",
            "         11.802261  ,  -2.9789238 ,   2.8485465 ,   2.7909834 ,\n",
            "          5.19339   ,   2.5228567 ],\n",
            "       [ -3.9509315 ,  -4.977912  ,  -3.4903324 ,   3.5896049 ,\n",
            "         -1.5026969 ,  13.447274  ,  -1.6138391 ,  -6.002643  ,\n",
            "          1.9226251 ,   1.5041863 ],\n",
            "       [ -0.7977262 ,  -1.4271595 ,  -0.34266528,   6.805017  ,\n",
            "         -1.9939673 ,   2.9502869 ,  -3.5404673 ,  -1.9857605 ,\n",
            "         -1.7839441 ,   1.6115481 ],\n",
            "       [ -6.4606547 ,   2.6060317 ,  -2.6813235 ,   1.6082451 ,\n",
            "          9.674175  ,   0.2705583 ,  -6.382307  ,   0.70584816,\n",
            "          2.924487  ,   5.267395  ],\n",
            "       [ 10.172959  ,  -4.4157195 ,   3.7925677 ,  -5.4763794 ,\n",
            "         -1.6288382 ,  -3.1513493 ,   1.2687743 ,   3.6710339 ,\n",
            "          6.3572903 ,  -3.768801  ],\n",
            "       [  0.8615234 ,  -1.4251424 ,   0.14907758,  -3.7546067 ,\n",
            "          1.1567622 ,  -1.3127687 ,  11.130087  ,  -3.49845   ,\n",
            "         -2.8474517 ,  -3.5030534 ],\n",
            "       [ -2.5979922 ,  -0.8957519 ,  -2.259051  ,  -3.6142292 ,\n",
            "          0.21416481,   1.2813184 ,   8.403343  ,  -5.2020764 ,\n",
            "         -0.79635376,  -3.9884107 ],\n",
            "       [ -4.4056854 ,   0.8145302 ,   2.3596127 ,   8.341943  ,\n",
            "         -9.114543  ,   2.6701035 ,  -6.142564  ,   0.28237337,\n",
            "          0.09966842,  -1.9692098 ],\n",
            "       [  9.712234  ,  -6.536752  ,   1.2218115 ,  -2.0252175 ,\n",
            "         -9.319754  ,   1.414439  ,   1.6219047 ,  -4.8014603 ,\n",
            "          2.3271933 ,   0.21125281],\n",
            "       [ -0.9751782 ,   3.2889252 ,  14.983232  ,   3.2571974 ,\n",
            "         -9.049465  ,  -5.2788954 ,  -1.3115864 ,  -3.908474  ,\n",
            "         -0.3403845 ,  -7.8486395 ],\n",
            "       [ -2.7600813 ,  -1.640916  ,   5.261658  ,  12.975844  ,\n",
            "         -7.3300414 ,   1.1100011 ,  -9.4380665 ,  -1.804886  ,\n",
            "          3.475141  ,   3.0802288 ],\n",
            "       [ -2.1216092 ,  -2.0433214 ,  -1.3809427 ,  -1.7198917 ,\n",
            "         -1.547599  ,   3.2357905 ,   8.280697  ,  -8.80241   ,\n",
            "          0.5734488 ,  -5.315723  ],\n",
            "       [ -0.4677219 ,  -2.831883  ,   0.6642926 ,  -3.0671504 ,\n",
            "         -2.1748264 ,   2.1368244 ,  15.039485  ,  -9.483389  ,\n",
            "         -2.1059604 ,  -5.4219003 ],\n",
            "       [  0.0409374 ,  -4.2571387 ,   7.0050473 ,   3.0226915 ,\n",
            "         -8.956882  ,  -1.5046917 ,  -7.535986  ,   9.138191  ,\n",
            "          4.4674034 ,  -0.26225993],\n",
            "       [  0.6479834 ,  -2.4754424 ,   0.6235244 ,  -4.826047  ,\n",
            "         13.385541  ,  -1.9672046 ,  -0.06381841,   4.1857157 ,\n",
            "          2.0116894 ,   3.6388025 ],\n",
            "       [  6.2262793 ,  -4.601576  ,  -0.7608519 ,  -1.2164807 ,\n",
            "          3.6346848 ,  -0.13913302,  -0.986823  ,   3.2095096 ,\n",
            "          1.1948506 ,   4.7184544 ],\n",
            "       [ -4.65862   ,  -2.1659675 ,   2.8782194 ,  15.079111  ,\n",
            "         -7.5179343 ,   1.1211625 , -11.458631  ,   1.1312068 ,\n",
            "          0.78319925,   4.2068725 ],\n",
            "       [ -3.5246537 ,  -1.9378166 ,   4.9790087 ,   3.4091775 ,\n",
            "         -6.3049912 ,  -1.1863979 ,  -1.6552616 ,  -5.4100766 ,\n",
            "         11.924654  ,  -1.971277  ],\n",
            "       [ -6.5521035 ,   2.292496  ,   3.5089633 ,   3.5533965 ,\n",
            "          1.1297525 ,   0.3572394 ,  -4.058539  ,  -0.35162613,\n",
            "         -0.6660975 ,   1.2100117 ],\n",
            "       [ -5.42427   ,  -7.6909814 ,  -1.0463942 ,   2.307806  ,\n",
            "         -7.5057583 ,  11.200576  ,   2.693207  ,  -9.138301  ,\n",
            "          4.8611155 ,   0.35817254],\n",
            "       [  0.9042305 ,  -6.3443384 ,   0.9249506 ,  -2.6486268 ,\n",
            "         13.093104  ,  -1.6914351 ,   0.15723428,   3.9586217 ,\n",
            "          2.7395406 ,   3.9987938 ],\n",
            "       [ -1.8026285 ,  -3.5518875 ,  12.19347   ,   8.475554  ,\n",
            "         -2.0260823 ,  -1.5977    ,  -6.8855653 ,  -1.1958574 ,\n",
            "          7.655617  ,   2.7888846 ],\n",
            "       [ -3.6544695 ,  -4.7914762 ,  -3.7770693 ,   1.2028712 ,\n",
            "         -3.0755198 ,  12.651762  ,  -0.9504315 ,  -4.774876  ,\n",
            "          4.9882226 ,  -1.1664597 ],\n",
            "       [ -3.7097654 ,  -4.5374484 ,  -2.0272608 ,   4.2363973 ,\n",
            "         -4.9310465 ,  10.957899  ,  -0.10605067,  -7.9104    ,\n",
            "         -1.639195  ,   0.8186313 ],\n",
            "       [ -4.6735783 ,  -0.4139009 ,   3.4132428 ,   1.8797023 ,\n",
            "         -0.0856244 ,   1.3807256 ,  -3.2121568 ,  -1.8223989 ,\n",
            "         13.265212  ,  -5.1147656 ],\n",
            "       [ -4.597955  ,  -8.345077  ,  -3.8099682 ,   2.5768445 ,\n",
            "        -12.272818  ,  14.262009  ,  -1.982465  ,  -5.9441466 ,\n",
            "          4.962113  ,   2.3709493 ],\n",
            "       [ -6.3623557 ,   3.552313  ,  15.045274  ,   7.502478  ,\n",
            "         -5.394789  ,  -5.6198606 ,  -8.881869  ,   2.6277316 ,\n",
            "          4.26094   ,  -1.5789182 ],\n",
            "       [  1.3592558 ,  -0.90068316,   0.25116363,  -1.2018834 ,\n",
            "          6.323568  ,  -4.7942147 ,  -1.344672  ,   0.29329526,\n",
            "          0.5195295 ,   8.080366  ],\n",
            "       [  3.1558454 ,  -6.0005484 ,  14.190307  ,   2.261569  ,\n",
            "         -1.6935632 ,  -5.16051   ,   1.1887435 ,  -2.1291604 ,\n",
            "          1.9103584 ,  -1.9960321 ],\n",
            "       [  0.04008524,  -5.777976  ,   1.6260443 ,  -2.5022283 ,\n",
            "         10.927259  ,  -2.6317909 ,  -0.414786  ,   6.5441337 ,\n",
            "          3.5141785 ,   4.105767  ],\n",
            "       [ -4.611672  ,   3.7923326 ,  17.167437  ,   7.249518  ,\n",
            "         -5.269951  ,  -7.8458443 ,  -2.9375157 ,   1.7451283 ,\n",
            "          3.0541005 ,  -7.857707  ],\n",
            "       [ -6.441341  ,  -0.46208668,   3.448763  ,   6.5710745 ,\n",
            "         -1.6765518 ,  -5.2747636 ,  -8.561929  ,  11.586166  ,\n",
            "         -0.40545475,   3.5804014 ],\n",
            "       [ 13.882061  ,  -2.7490087 ,   1.9859798 ,  -3.6581    ,\n",
            "         -6.125377  ,   1.108944  ,   0.16606325,   1.2023708 ,\n",
            "          1.1717005 ,  -0.76400423],\n",
            "       [ -5.7973204 ,  -6.057523  ,  -5.405157  ,   6.827917  ,\n",
            "         -6.450783  ,  14.009723  ,  -7.207908  ,  -4.812594  ,\n",
            "          4.059998  ,   3.2385578 ],\n",
            "       [ -3.7730894 ,   9.69353   ,   0.7031196 ,  -3.322984  ,\n",
            "         -1.9805362 ,  -3.6296628 ,  -1.7044431 ,  -1.4776891 ,\n",
            "          0.67230815,  -4.973754  ],\n",
            "       [ 11.00023   ,  -7.0863037 ,   0.8996296 ,  -5.540086  ,\n",
            "         -5.4556704 ,   1.5265975 ,   2.0063772 ,  -2.4722962 ,\n",
            "          3.434026  ,   1.1498064 ],\n",
            "       [ -2.1283946 ,   2.3322954 ,   2.1128664 ,   3.0426865 ,\n",
            "         -4.5207024 ,  -4.638642  , -10.974317  ,  12.852525  ,\n",
            "         -0.9926769 ,   1.8753237 ],\n",
            "       [ -3.6027284 ,  -3.8166277 ,  -1.2466464 ,   1.9505906 ,\n",
            "          5.6815815 ,   0.439007  ,  -4.9943466 ,   1.7341512 ,\n",
            "          1.9383999 ,  10.451217  ],\n",
            "       [  3.3689475 ,  -6.66108   ,   4.3423285 ,   0.07838452,\n",
            "          3.2756283 ,  -2.7152739 ,  -1.1429601 ,   4.61379   ,\n",
            "         -0.08878238,   9.049192  ],\n",
            "       [  1.0664021 ,  -7.513869  ,   1.0605229 ,   1.2671309 ,\n",
            "          2.5285063 ,  -0.08211671,  -2.6023245 ,   4.3065085 ,\n",
            "          2.0794237 ,  10.545735  ],\n",
            "       [ -3.019189  ,  -0.72185856,  -2.4501145 ,  -4.46154   ,\n",
            "          3.0271485 ,  -0.39877966,  12.394525  ,  -7.072797  ,\n",
            "         -1.1970154 ,  -2.71659   ],\n",
            "       [ -2.153903  ,  -9.572613  ,  -4.8725367 ,   3.9722536 ,\n",
            "         -8.999825  ,  11.014177  ,  -1.5281768 ,  -5.514724  ,\n",
            "          3.2723327 ,   4.818866  ],\n",
            "       [ -4.9343133 ,  -5.662262  ,  -1.2269945 ,   2.8466315 ,\n",
            "         -2.685014  ,   2.07301   ,  -1.1030807 ,  -2.1889744 ,\n",
            "         13.876126  ,  -1.1968104 ],\n",
            "       [ -0.21073508,  -6.2197685 ,   4.705949  ,   1.083915  ,\n",
            "         -1.8136727 ,   1.7204926 ,  -4.462138  ,   0.49263263,\n",
            "         15.820081  ,  -3.286296  ],\n",
            "       [ -0.63795197,   0.23825386,   3.0134115 ,  -7.778423  ,\n",
            "         -1.1880373 ,   0.12726209,  14.677263  ,  -9.703664  ,\n",
            "         -3.208988  ,  -7.9732513 ],\n",
            "       [ -4.078763  ,  -5.7558584 ,  -0.7761436 ,   5.76371   ,\n",
            "          0.7364787 ,   2.0616138 ,  -6.989679  ,   1.845219  ,\n",
            "          1.6901703 ,  10.498559  ],\n",
            "       [  5.736151  ,  -6.4872823 ,   3.2356095 ,  -1.5685157 ,\n",
            "          0.46785095,   0.9970163 ,  -0.40475544,   0.10957956,\n",
            "          2.414703  ,   7.800467  ],\n",
            "       [ -4.250186  ,  -3.1224732 ,  -4.5756927 ,   1.9613774 ,\n",
            "         -3.463911  ,  13.375464  ,  -3.9796216 ,  -4.9216247 ,\n",
            "          3.7214441 ,   1.4129553 ],\n",
            "       [ -4.708521  ,  -1.2560997 ,  -1.4646231 ,  -2.2778683 ,\n",
            "         12.80054   ,  -1.5400431 ,  -0.14305466,   1.1323966 ,\n",
            "          3.382804  ,   0.8876488 ]], dtype=float32)>}\n"
          ]
        }
      ]
    },
    {
      "cell_type": "code",
      "source": [],
      "metadata": {
        "id": "MdrPJmZ7VEa6"
      },
      "execution_count": null,
      "outputs": []
    }
  ]
}