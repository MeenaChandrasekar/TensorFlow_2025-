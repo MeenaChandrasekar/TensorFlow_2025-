{
  "nbformat": 4,
  "nbformat_minor": 0,
  "metadata": {
    "colab": {
      "provenance": []
    },
    "kernelspec": {
      "name": "python3",
      "display_name": "Python 3"
    },
    "language_info": {
      "name": "python"
    }
  },
  "cells": [
    {
      "cell_type": "code",
      "execution_count": 1,
      "metadata": {
        "colab": {
          "base_uri": "https://localhost:8080/"
        },
        "id": "y_InEr3yg-Q7",
        "outputId": "2a11ff44-241f-4acc-c8c2-f4ebe068155c"
      },
      "outputs": [
        {
          "output_type": "stream",
          "name": "stdout",
          "text": [
            "Requirement already satisfied: tensorflow>=2.10.0 in /usr/local/lib/python3.11/dist-packages (2.18.0)\n",
            "Requirement already satisfied: absl-py>=1.0.0 in /usr/local/lib/python3.11/dist-packages (from tensorflow>=2.10.0) (1.4.0)\n",
            "Requirement already satisfied: astunparse>=1.6.0 in /usr/local/lib/python3.11/dist-packages (from tensorflow>=2.10.0) (1.6.3)\n",
            "Requirement already satisfied: flatbuffers>=24.3.25 in /usr/local/lib/python3.11/dist-packages (from tensorflow>=2.10.0) (25.2.10)\n",
            "Requirement already satisfied: gast!=0.5.0,!=0.5.1,!=0.5.2,>=0.2.1 in /usr/local/lib/python3.11/dist-packages (from tensorflow>=2.10.0) (0.6.0)\n",
            "Requirement already satisfied: google-pasta>=0.1.1 in /usr/local/lib/python3.11/dist-packages (from tensorflow>=2.10.0) (0.2.0)\n",
            "Requirement already satisfied: libclang>=13.0.0 in /usr/local/lib/python3.11/dist-packages (from tensorflow>=2.10.0) (18.1.1)\n",
            "Requirement already satisfied: opt-einsum>=2.3.2 in /usr/local/lib/python3.11/dist-packages (from tensorflow>=2.10.0) (3.4.0)\n",
            "Requirement already satisfied: packaging in /usr/local/lib/python3.11/dist-packages (from tensorflow>=2.10.0) (24.2)\n",
            "Requirement already satisfied: protobuf!=4.21.0,!=4.21.1,!=4.21.2,!=4.21.3,!=4.21.4,!=4.21.5,<6.0.0dev,>=3.20.3 in /usr/local/lib/python3.11/dist-packages (from tensorflow>=2.10.0) (4.25.6)\n",
            "Requirement already satisfied: requests<3,>=2.21.0 in /usr/local/lib/python3.11/dist-packages (from tensorflow>=2.10.0) (2.32.3)\n",
            "Requirement already satisfied: setuptools in /usr/local/lib/python3.11/dist-packages (from tensorflow>=2.10.0) (75.1.0)\n",
            "Requirement already satisfied: six>=1.12.0 in /usr/local/lib/python3.11/dist-packages (from tensorflow>=2.10.0) (1.17.0)\n",
            "Requirement already satisfied: termcolor>=1.1.0 in /usr/local/lib/python3.11/dist-packages (from tensorflow>=2.10.0) (2.5.0)\n",
            "Requirement already satisfied: typing-extensions>=3.6.6 in /usr/local/lib/python3.11/dist-packages (from tensorflow>=2.10.0) (4.12.2)\n",
            "Requirement already satisfied: wrapt>=1.11.0 in /usr/local/lib/python3.11/dist-packages (from tensorflow>=2.10.0) (1.17.2)\n",
            "Requirement already satisfied: grpcio<2.0,>=1.24.3 in /usr/local/lib/python3.11/dist-packages (from tensorflow>=2.10.0) (1.70.0)\n",
            "Requirement already satisfied: tensorboard<2.19,>=2.18 in /usr/local/lib/python3.11/dist-packages (from tensorflow>=2.10.0) (2.18.0)\n",
            "Requirement already satisfied: keras>=3.5.0 in /usr/local/lib/python3.11/dist-packages (from tensorflow>=2.10.0) (3.8.0)\n",
            "Requirement already satisfied: numpy<2.1.0,>=1.26.0 in /usr/local/lib/python3.11/dist-packages (from tensorflow>=2.10.0) (1.26.4)\n",
            "Requirement already satisfied: h5py>=3.11.0 in /usr/local/lib/python3.11/dist-packages (from tensorflow>=2.10.0) (3.12.1)\n",
            "Requirement already satisfied: ml-dtypes<0.5.0,>=0.4.0 in /usr/local/lib/python3.11/dist-packages (from tensorflow>=2.10.0) (0.4.1)\n",
            "Requirement already satisfied: tensorflow-io-gcs-filesystem>=0.23.1 in /usr/local/lib/python3.11/dist-packages (from tensorflow>=2.10.0) (0.37.1)\n",
            "Requirement already satisfied: wheel<1.0,>=0.23.0 in /usr/local/lib/python3.11/dist-packages (from astunparse>=1.6.0->tensorflow>=2.10.0) (0.45.1)\n",
            "Requirement already satisfied: rich in /usr/local/lib/python3.11/dist-packages (from keras>=3.5.0->tensorflow>=2.10.0) (13.9.4)\n",
            "Requirement already satisfied: namex in /usr/local/lib/python3.11/dist-packages (from keras>=3.5.0->tensorflow>=2.10.0) (0.0.8)\n",
            "Requirement already satisfied: optree in /usr/local/lib/python3.11/dist-packages (from keras>=3.5.0->tensorflow>=2.10.0) (0.14.0)\n",
            "Requirement already satisfied: charset-normalizer<4,>=2 in /usr/local/lib/python3.11/dist-packages (from requests<3,>=2.21.0->tensorflow>=2.10.0) (3.4.1)\n",
            "Requirement already satisfied: idna<4,>=2.5 in /usr/local/lib/python3.11/dist-packages (from requests<3,>=2.21.0->tensorflow>=2.10.0) (3.10)\n",
            "Requirement already satisfied: urllib3<3,>=1.21.1 in /usr/local/lib/python3.11/dist-packages (from requests<3,>=2.21.0->tensorflow>=2.10.0) (2.3.0)\n",
            "Requirement already satisfied: certifi>=2017.4.17 in /usr/local/lib/python3.11/dist-packages (from requests<3,>=2.21.0->tensorflow>=2.10.0) (2025.1.31)\n",
            "Requirement already satisfied: markdown>=2.6.8 in /usr/local/lib/python3.11/dist-packages (from tensorboard<2.19,>=2.18->tensorflow>=2.10.0) (3.7)\n",
            "Requirement already satisfied: tensorboard-data-server<0.8.0,>=0.7.0 in /usr/local/lib/python3.11/dist-packages (from tensorboard<2.19,>=2.18->tensorflow>=2.10.0) (0.7.2)\n",
            "Requirement already satisfied: werkzeug>=1.0.1 in /usr/local/lib/python3.11/dist-packages (from tensorboard<2.19,>=2.18->tensorflow>=2.10.0) (3.1.3)\n",
            "Requirement already satisfied: MarkupSafe>=2.1.1 in /usr/local/lib/python3.11/dist-packages (from werkzeug>=1.0.1->tensorboard<2.19,>=2.18->tensorflow>=2.10.0) (3.0.2)\n",
            "Requirement already satisfied: markdown-it-py>=2.2.0 in /usr/local/lib/python3.11/dist-packages (from rich->keras>=3.5.0->tensorflow>=2.10.0) (3.0.0)\n",
            "Requirement already satisfied: pygments<3.0.0,>=2.13.0 in /usr/local/lib/python3.11/dist-packages (from rich->keras>=3.5.0->tensorflow>=2.10.0) (2.18.0)\n",
            "Requirement already satisfied: mdurl~=0.1 in /usr/local/lib/python3.11/dist-packages (from markdown-it-py>=2.2.0->rich->keras>=3.5.0->tensorflow>=2.10.0) (0.1.2)\n",
            "Collecting remotezip\n",
            "  Downloading remotezip-0.12.3-py3-none-any.whl.metadata (7.2 kB)\n",
            "Requirement already satisfied: tqdm in /usr/local/lib/python3.11/dist-packages (4.67.1)\n",
            "Requirement already satisfied: opencv-python in /usr/local/lib/python3.11/dist-packages (4.11.0.86)\n",
            "Requirement already satisfied: requests in /usr/local/lib/python3.11/dist-packages (from remotezip) (2.32.3)\n",
            "Requirement already satisfied: numpy>=1.21.2 in /usr/local/lib/python3.11/dist-packages (from opencv-python) (1.26.4)\n",
            "Requirement already satisfied: charset-normalizer<4,>=2 in /usr/local/lib/python3.11/dist-packages (from requests->remotezip) (3.4.1)\n",
            "Requirement already satisfied: idna<4,>=2.5 in /usr/local/lib/python3.11/dist-packages (from requests->remotezip) (3.10)\n",
            "Requirement already satisfied: urllib3<3,>=1.21.1 in /usr/local/lib/python3.11/dist-packages (from requests->remotezip) (2.3.0)\n",
            "Requirement already satisfied: certifi>=2017.4.17 in /usr/local/lib/python3.11/dist-packages (from requests->remotezip) (2025.1.31)\n",
            "Downloading remotezip-0.12.3-py3-none-any.whl (8.1 kB)\n",
            "Installing collected packages: remotezip\n",
            "Successfully installed remotezip-0.12.3\n",
            "  Preparing metadata (setup.py) ... \u001b[?25l\u001b[?25hdone\n",
            "  Building wheel for tensorflow-docs (setup.py) ... \u001b[?25l\u001b[?25hdone\n"
          ]
        }
      ],
      "source": [
        "# Install the required libraries\n",
        "!pip install -U \"tensorflow>=2.10.0\"  # Ensure you have TensorFlow v2.10 or later\n",
        "!pip install remotezip tqdm opencv-python\n",
        "!pip install -q git+https://github.com/tensorflow/docs\n"
      ]
    },
    {
      "cell_type": "code",
      "source": [
        "import tqdm\n",
        "import random\n",
        "import pathlib\n",
        "import collections\n",
        "import os\n",
        "import cv2\n",
        "import numpy as np\n",
        "import remotezip as rz\n",
        "import tensorflow as tf\n",
        "import imageio\n",
        "from IPython import display\n",
        "from tensorflow_docs.vis import embed\n"
      ],
      "metadata": {
        "id": "WAqk_4PhhAlh"
      },
      "execution_count": 2,
      "outputs": []
    },
    {
      "cell_type": "code",
      "source": [
        "URL = 'https://storage.googleapis.com/thumos14_files/UCF101_videos.zip'\n"
      ],
      "metadata": {
        "id": "pcDkaMuNjhFk"
      },
      "execution_count": 3,
      "outputs": []
    },
    {
      "cell_type": "code",
      "source": [
        "def list_files_from_zip_url(zip_url):\n",
        "    files = []\n",
        "    with rz.RemoteZip(zip_url) as zip:\n",
        "        for zip_info in zip.infolist():\n",
        "            files.append(zip_info.filename)\n",
        "    return files\n",
        "\n",
        "files = list_files_from_zip_url(URL)\n",
        "files = [f for f in files if f.endswith('.avi')]  # Filter only .avi files (videos)\n",
        "print(files[:10])  # Display the first 10 video filenames\n"
      ],
      "metadata": {
        "colab": {
          "base_uri": "https://localhost:8080/"
        },
        "id": "tZlZWt1NjlpA",
        "outputId": "07b6e253-2485-4c2a-f8d3-37fb8d7c3ff3"
      },
      "execution_count": 4,
      "outputs": [
        {
          "output_type": "stream",
          "name": "stdout",
          "text": [
            "['UCF101/v_ApplyEyeMakeup_g01_c01.avi', 'UCF101/v_ApplyEyeMakeup_g01_c02.avi', 'UCF101/v_ApplyEyeMakeup_g01_c03.avi', 'UCF101/v_ApplyEyeMakeup_g01_c04.avi', 'UCF101/v_ApplyEyeMakeup_g01_c05.avi', 'UCF101/v_ApplyEyeMakeup_g01_c06.avi', 'UCF101/v_ApplyEyeMakeup_g02_c01.avi', 'UCF101/v_ApplyEyeMakeup_g02_c02.avi', 'UCF101/v_ApplyEyeMakeup_g02_c03.avi', 'UCF101/v_ApplyEyeMakeup_g02_c04.avi']\n"
          ]
        }
      ]
    },
    {
      "cell_type": "code",
      "source": [
        "def get_class(fname):\n",
        "    \"\"\" Retrieve the name of the class from the filename. \"\"\"\n",
        "    return fname.split('_')[-3]\n",
        "\n",
        "def get_files_per_class(files):\n",
        "    \"\"\" Return files categorized by class names. \"\"\"\n",
        "    files_for_class = collections.defaultdict(list)\n",
        "    for fname in files:\n",
        "        class_name = get_class(fname)\n",
        "        files_for_class[class_name].append(fname)\n",
        "    return files_for_class\n",
        "\n",
        "files_for_class = get_files_per_class(files)\n",
        "classes = list(files_for_class.keys())\n",
        "print('Number of classes:', len(classes))\n"
      ],
      "metadata": {
        "colab": {
          "base_uri": "https://localhost:8080/"
        },
        "id": "qXE5-IAcjodi",
        "outputId": "d55dc9d0-8b88-4ea3-dcb8-7e569a94ec50"
      },
      "execution_count": 5,
      "outputs": [
        {
          "output_type": "stream",
          "name": "stdout",
          "text": [
            "Number of classes: 101\n"
          ]
        }
      ]
    },
    {
      "cell_type": "code",
      "source": [
        "NUM_CLASSES = 10\n",
        "FILES_PER_CLASS = 50\n",
        "\n",
        "def select_subset_of_classes(files_for_class, classes, files_per_class):\n",
        "    files_subset = {}\n",
        "    for class_name in classes:\n",
        "        class_files = files_for_class[class_name]\n",
        "        files_subset[class_name] = class_files[:files_per_class]\n",
        "    return files_subset\n",
        "\n",
        "files_subset = select_subset_of_classes(files_for_class, classes[:NUM_CLASSES], FILES_PER_CLASS)\n",
        "print('Subset of files for selected classes:', files_subset)\n"
      ],
      "metadata": {
        "colab": {
          "base_uri": "https://localhost:8080/"
        },
        "id": "Sjlw5o9FjtO3",
        "outputId": "1d84b0f5-2db9-47e9-cdbe-ee359eb01224"
      },
      "execution_count": 6,
      "outputs": [
        {
          "output_type": "stream",
          "name": "stdout",
          "text": [
            "Subset of files for selected classes: {'ApplyEyeMakeup': ['UCF101/v_ApplyEyeMakeup_g01_c01.avi', 'UCF101/v_ApplyEyeMakeup_g01_c02.avi', 'UCF101/v_ApplyEyeMakeup_g01_c03.avi', 'UCF101/v_ApplyEyeMakeup_g01_c04.avi', 'UCF101/v_ApplyEyeMakeup_g01_c05.avi', 'UCF101/v_ApplyEyeMakeup_g01_c06.avi', 'UCF101/v_ApplyEyeMakeup_g02_c01.avi', 'UCF101/v_ApplyEyeMakeup_g02_c02.avi', 'UCF101/v_ApplyEyeMakeup_g02_c03.avi', 'UCF101/v_ApplyEyeMakeup_g02_c04.avi', 'UCF101/v_ApplyEyeMakeup_g03_c01.avi', 'UCF101/v_ApplyEyeMakeup_g03_c02.avi', 'UCF101/v_ApplyEyeMakeup_g03_c03.avi', 'UCF101/v_ApplyEyeMakeup_g03_c04.avi', 'UCF101/v_ApplyEyeMakeup_g03_c05.avi', 'UCF101/v_ApplyEyeMakeup_g03_c06.avi', 'UCF101/v_ApplyEyeMakeup_g04_c01.avi', 'UCF101/v_ApplyEyeMakeup_g04_c02.avi', 'UCF101/v_ApplyEyeMakeup_g04_c03.avi', 'UCF101/v_ApplyEyeMakeup_g04_c04.avi', 'UCF101/v_ApplyEyeMakeup_g04_c05.avi', 'UCF101/v_ApplyEyeMakeup_g04_c06.avi', 'UCF101/v_ApplyEyeMakeup_g04_c07.avi', 'UCF101/v_ApplyEyeMakeup_g05_c01.avi', 'UCF101/v_ApplyEyeMakeup_g05_c02.avi', 'UCF101/v_ApplyEyeMakeup_g05_c03.avi', 'UCF101/v_ApplyEyeMakeup_g05_c04.avi', 'UCF101/v_ApplyEyeMakeup_g05_c05.avi', 'UCF101/v_ApplyEyeMakeup_g05_c06.avi', 'UCF101/v_ApplyEyeMakeup_g05_c07.avi', 'UCF101/v_ApplyEyeMakeup_g06_c01.avi', 'UCF101/v_ApplyEyeMakeup_g06_c02.avi', 'UCF101/v_ApplyEyeMakeup_g06_c03.avi', 'UCF101/v_ApplyEyeMakeup_g06_c04.avi', 'UCF101/v_ApplyEyeMakeup_g06_c05.avi', 'UCF101/v_ApplyEyeMakeup_g06_c06.avi', 'UCF101/v_ApplyEyeMakeup_g06_c07.avi', 'UCF101/v_ApplyEyeMakeup_g07_c01.avi', 'UCF101/v_ApplyEyeMakeup_g07_c02.avi', 'UCF101/v_ApplyEyeMakeup_g07_c03.avi', 'UCF101/v_ApplyEyeMakeup_g07_c04.avi', 'UCF101/v_ApplyEyeMakeup_g07_c05.avi', 'UCF101/v_ApplyEyeMakeup_g07_c06.avi', 'UCF101/v_ApplyEyeMakeup_g07_c07.avi', 'UCF101/v_ApplyEyeMakeup_g08_c01.avi', 'UCF101/v_ApplyEyeMakeup_g08_c02.avi', 'UCF101/v_ApplyEyeMakeup_g08_c03.avi', 'UCF101/v_ApplyEyeMakeup_g08_c04.avi', 'UCF101/v_ApplyEyeMakeup_g08_c05.avi', 'UCF101/v_ApplyEyeMakeup_g09_c01.avi'], 'ApplyLipstick': ['UCF101/v_ApplyLipstick_g01_c01.avi', 'UCF101/v_ApplyLipstick_g01_c02.avi', 'UCF101/v_ApplyLipstick_g01_c03.avi', 'UCF101/v_ApplyLipstick_g01_c04.avi', 'UCF101/v_ApplyLipstick_g01_c05.avi', 'UCF101/v_ApplyLipstick_g02_c01.avi', 'UCF101/v_ApplyLipstick_g02_c02.avi', 'UCF101/v_ApplyLipstick_g02_c03.avi', 'UCF101/v_ApplyLipstick_g02_c04.avi', 'UCF101/v_ApplyLipstick_g03_c01.avi', 'UCF101/v_ApplyLipstick_g03_c02.avi', 'UCF101/v_ApplyLipstick_g03_c03.avi', 'UCF101/v_ApplyLipstick_g03_c04.avi', 'UCF101/v_ApplyLipstick_g04_c01.avi', 'UCF101/v_ApplyLipstick_g04_c02.avi', 'UCF101/v_ApplyLipstick_g04_c03.avi', 'UCF101/v_ApplyLipstick_g04_c04.avi', 'UCF101/v_ApplyLipstick_g04_c05.avi', 'UCF101/v_ApplyLipstick_g05_c01.avi', 'UCF101/v_ApplyLipstick_g05_c02.avi', 'UCF101/v_ApplyLipstick_g05_c03.avi', 'UCF101/v_ApplyLipstick_g05_c04.avi', 'UCF101/v_ApplyLipstick_g05_c05.avi', 'UCF101/v_ApplyLipstick_g06_c01.avi', 'UCF101/v_ApplyLipstick_g06_c02.avi', 'UCF101/v_ApplyLipstick_g06_c03.avi', 'UCF101/v_ApplyLipstick_g06_c04.avi', 'UCF101/v_ApplyLipstick_g06_c05.avi', 'UCF101/v_ApplyLipstick_g07_c01.avi', 'UCF101/v_ApplyLipstick_g07_c02.avi', 'UCF101/v_ApplyLipstick_g07_c03.avi', 'UCF101/v_ApplyLipstick_g07_c04.avi', 'UCF101/v_ApplyLipstick_g08_c01.avi', 'UCF101/v_ApplyLipstick_g08_c02.avi', 'UCF101/v_ApplyLipstick_g08_c03.avi', 'UCF101/v_ApplyLipstick_g08_c04.avi', 'UCF101/v_ApplyLipstick_g09_c01.avi', 'UCF101/v_ApplyLipstick_g09_c02.avi', 'UCF101/v_ApplyLipstick_g09_c03.avi', 'UCF101/v_ApplyLipstick_g09_c04.avi', 'UCF101/v_ApplyLipstick_g10_c01.avi', 'UCF101/v_ApplyLipstick_g10_c02.avi', 'UCF101/v_ApplyLipstick_g10_c03.avi', 'UCF101/v_ApplyLipstick_g10_c04.avi', 'UCF101/v_ApplyLipstick_g11_c01.avi', 'UCF101/v_ApplyLipstick_g11_c02.avi', 'UCF101/v_ApplyLipstick_g11_c03.avi', 'UCF101/v_ApplyLipstick_g11_c04.avi', 'UCF101/v_ApplyLipstick_g12_c01.avi', 'UCF101/v_ApplyLipstick_g12_c02.avi'], 'Archery': ['UCF101/v_Archery_g01_c01.avi', 'UCF101/v_Archery_g01_c02.avi', 'UCF101/v_Archery_g01_c03.avi', 'UCF101/v_Archery_g01_c04.avi', 'UCF101/v_Archery_g01_c05.avi', 'UCF101/v_Archery_g01_c06.avi', 'UCF101/v_Archery_g01_c07.avi', 'UCF101/v_Archery_g02_c01.avi', 'UCF101/v_Archery_g02_c02.avi', 'UCF101/v_Archery_g02_c03.avi', 'UCF101/v_Archery_g02_c04.avi', 'UCF101/v_Archery_g02_c05.avi', 'UCF101/v_Archery_g02_c06.avi', 'UCF101/v_Archery_g02_c07.avi', 'UCF101/v_Archery_g03_c01.avi', 'UCF101/v_Archery_g03_c02.avi', 'UCF101/v_Archery_g03_c03.avi', 'UCF101/v_Archery_g03_c04.avi', 'UCF101/v_Archery_g03_c05.avi', 'UCF101/v_Archery_g04_c01.avi', 'UCF101/v_Archery_g04_c02.avi', 'UCF101/v_Archery_g04_c03.avi', 'UCF101/v_Archery_g04_c04.avi', 'UCF101/v_Archery_g04_c05.avi', 'UCF101/v_Archery_g05_c01.avi', 'UCF101/v_Archery_g05_c02.avi', 'UCF101/v_Archery_g05_c03.avi', 'UCF101/v_Archery_g05_c04.avi', 'UCF101/v_Archery_g05_c05.avi', 'UCF101/v_Archery_g06_c01.avi', 'UCF101/v_Archery_g06_c02.avi', 'UCF101/v_Archery_g06_c03.avi', 'UCF101/v_Archery_g06_c04.avi', 'UCF101/v_Archery_g06_c05.avi', 'UCF101/v_Archery_g06_c06.avi', 'UCF101/v_Archery_g07_c01.avi', 'UCF101/v_Archery_g07_c02.avi', 'UCF101/v_Archery_g07_c03.avi', 'UCF101/v_Archery_g07_c04.avi', 'UCF101/v_Archery_g07_c05.avi', 'UCF101/v_Archery_g07_c06.avi', 'UCF101/v_Archery_g08_c01.avi', 'UCF101/v_Archery_g08_c02.avi', 'UCF101/v_Archery_g08_c03.avi', 'UCF101/v_Archery_g08_c04.avi', 'UCF101/v_Archery_g08_c05.avi', 'UCF101/v_Archery_g09_c01.avi', 'UCF101/v_Archery_g09_c02.avi', 'UCF101/v_Archery_g09_c03.avi', 'UCF101/v_Archery_g09_c04.avi'], 'BabyCrawling': ['UCF101/v_BabyCrawling_g01_c01.avi', 'UCF101/v_BabyCrawling_g01_c02.avi', 'UCF101/v_BabyCrawling_g01_c03.avi', 'UCF101/v_BabyCrawling_g01_c04.avi', 'UCF101/v_BabyCrawling_g02_c01.avi', 'UCF101/v_BabyCrawling_g02_c02.avi', 'UCF101/v_BabyCrawling_g02_c03.avi', 'UCF101/v_BabyCrawling_g02_c04.avi', 'UCF101/v_BabyCrawling_g02_c05.avi', 'UCF101/v_BabyCrawling_g02_c06.avi', 'UCF101/v_BabyCrawling_g03_c01.avi', 'UCF101/v_BabyCrawling_g03_c02.avi', 'UCF101/v_BabyCrawling_g03_c03.avi', 'UCF101/v_BabyCrawling_g03_c04.avi', 'UCF101/v_BabyCrawling_g04_c01.avi', 'UCF101/v_BabyCrawling_g04_c02.avi', 'UCF101/v_BabyCrawling_g04_c03.avi', 'UCF101/v_BabyCrawling_g04_c04.avi', 'UCF101/v_BabyCrawling_g05_c01.avi', 'UCF101/v_BabyCrawling_g05_c02.avi', 'UCF101/v_BabyCrawling_g05_c03.avi', 'UCF101/v_BabyCrawling_g05_c04.avi', 'UCF101/v_BabyCrawling_g05_c05.avi', 'UCF101/v_BabyCrawling_g06_c01.avi', 'UCF101/v_BabyCrawling_g06_c02.avi', 'UCF101/v_BabyCrawling_g06_c03.avi', 'UCF101/v_BabyCrawling_g06_c04.avi', 'UCF101/v_BabyCrawling_g06_c05.avi', 'UCF101/v_BabyCrawling_g06_c06.avi', 'UCF101/v_BabyCrawling_g07_c01.avi', 'UCF101/v_BabyCrawling_g07_c02.avi', 'UCF101/v_BabyCrawling_g07_c03.avi', 'UCF101/v_BabyCrawling_g07_c04.avi', 'UCF101/v_BabyCrawling_g07_c05.avi', 'UCF101/v_BabyCrawling_g07_c06.avi', 'UCF101/v_BabyCrawling_g08_c01.avi', 'UCF101/v_BabyCrawling_g08_c02.avi', 'UCF101/v_BabyCrawling_g08_c03.avi', 'UCF101/v_BabyCrawling_g08_c04.avi', 'UCF101/v_BabyCrawling_g09_c01.avi', 'UCF101/v_BabyCrawling_g09_c02.avi', 'UCF101/v_BabyCrawling_g09_c03.avi', 'UCF101/v_BabyCrawling_g09_c04.avi', 'UCF101/v_BabyCrawling_g09_c05.avi', 'UCF101/v_BabyCrawling_g09_c06.avi', 'UCF101/v_BabyCrawling_g10_c01.avi', 'UCF101/v_BabyCrawling_g10_c02.avi', 'UCF101/v_BabyCrawling_g10_c03.avi', 'UCF101/v_BabyCrawling_g10_c04.avi', 'UCF101/v_BabyCrawling_g10_c05.avi'], 'BalanceBeam': ['UCF101/v_BalanceBeam_g01_c01.avi', 'UCF101/v_BalanceBeam_g01_c02.avi', 'UCF101/v_BalanceBeam_g01_c03.avi', 'UCF101/v_BalanceBeam_g01_c04.avi', 'UCF101/v_BalanceBeam_g02_c01.avi', 'UCF101/v_BalanceBeam_g02_c02.avi', 'UCF101/v_BalanceBeam_g02_c03.avi', 'UCF101/v_BalanceBeam_g02_c04.avi', 'UCF101/v_BalanceBeam_g03_c01.avi', 'UCF101/v_BalanceBeam_g03_c02.avi', 'UCF101/v_BalanceBeam_g03_c03.avi', 'UCF101/v_BalanceBeam_g03_c04.avi', 'UCF101/v_BalanceBeam_g04_c01.avi', 'UCF101/v_BalanceBeam_g04_c02.avi', 'UCF101/v_BalanceBeam_g04_c03.avi', 'UCF101/v_BalanceBeam_g04_c04.avi', 'UCF101/v_BalanceBeam_g05_c01.avi', 'UCF101/v_BalanceBeam_g05_c02.avi', 'UCF101/v_BalanceBeam_g05_c03.avi', 'UCF101/v_BalanceBeam_g05_c04.avi', 'UCF101/v_BalanceBeam_g06_c01.avi', 'UCF101/v_BalanceBeam_g06_c02.avi', 'UCF101/v_BalanceBeam_g06_c03.avi', 'UCF101/v_BalanceBeam_g06_c04.avi', 'UCF101/v_BalanceBeam_g06_c05.avi', 'UCF101/v_BalanceBeam_g06_c06.avi', 'UCF101/v_BalanceBeam_g06_c07.avi', 'UCF101/v_BalanceBeam_g07_c01.avi', 'UCF101/v_BalanceBeam_g07_c02.avi', 'UCF101/v_BalanceBeam_g07_c03.avi', 'UCF101/v_BalanceBeam_g07_c04.avi', 'UCF101/v_BalanceBeam_g08_c01.avi', 'UCF101/v_BalanceBeam_g08_c02.avi', 'UCF101/v_BalanceBeam_g08_c03.avi', 'UCF101/v_BalanceBeam_g08_c04.avi', 'UCF101/v_BalanceBeam_g09_c01.avi', 'UCF101/v_BalanceBeam_g09_c02.avi', 'UCF101/v_BalanceBeam_g09_c03.avi', 'UCF101/v_BalanceBeam_g09_c04.avi', 'UCF101/v_BalanceBeam_g10_c01.avi', 'UCF101/v_BalanceBeam_g10_c02.avi', 'UCF101/v_BalanceBeam_g10_c03.avi', 'UCF101/v_BalanceBeam_g10_c04.avi', 'UCF101/v_BalanceBeam_g11_c01.avi', 'UCF101/v_BalanceBeam_g11_c02.avi', 'UCF101/v_BalanceBeam_g11_c03.avi', 'UCF101/v_BalanceBeam_g11_c04.avi', 'UCF101/v_BalanceBeam_g12_c01.avi', 'UCF101/v_BalanceBeam_g12_c02.avi', 'UCF101/v_BalanceBeam_g12_c03.avi'], 'BandMarching': ['UCF101/v_BandMarching_g01_c01.avi', 'UCF101/v_BandMarching_g01_c02.avi', 'UCF101/v_BandMarching_g01_c03.avi', 'UCF101/v_BandMarching_g01_c04.avi', 'UCF101/v_BandMarching_g01_c05.avi', 'UCF101/v_BandMarching_g01_c06.avi', 'UCF101/v_BandMarching_g01_c07.avi', 'UCF101/v_BandMarching_g02_c01.avi', 'UCF101/v_BandMarching_g02_c02.avi', 'UCF101/v_BandMarching_g02_c03.avi', 'UCF101/v_BandMarching_g02_c04.avi', 'UCF101/v_BandMarching_g02_c05.avi', 'UCF101/v_BandMarching_g02_c06.avi', 'UCF101/v_BandMarching_g02_c07.avi', 'UCF101/v_BandMarching_g03_c01.avi', 'UCF101/v_BandMarching_g03_c02.avi', 'UCF101/v_BandMarching_g03_c03.avi', 'UCF101/v_BandMarching_g03_c04.avi', 'UCF101/v_BandMarching_g03_c05.avi', 'UCF101/v_BandMarching_g03_c06.avi', 'UCF101/v_BandMarching_g03_c07.avi', 'UCF101/v_BandMarching_g04_c01.avi', 'UCF101/v_BandMarching_g04_c02.avi', 'UCF101/v_BandMarching_g04_c03.avi', 'UCF101/v_BandMarching_g04_c04.avi', 'UCF101/v_BandMarching_g05_c01.avi', 'UCF101/v_BandMarching_g05_c02.avi', 'UCF101/v_BandMarching_g05_c03.avi', 'UCF101/v_BandMarching_g05_c04.avi', 'UCF101/v_BandMarching_g05_c05.avi', 'UCF101/v_BandMarching_g05_c06.avi', 'UCF101/v_BandMarching_g05_c07.avi', 'UCF101/v_BandMarching_g06_c01.avi', 'UCF101/v_BandMarching_g06_c02.avi', 'UCF101/v_BandMarching_g06_c03.avi', 'UCF101/v_BandMarching_g06_c04.avi', 'UCF101/v_BandMarching_g07_c01.avi', 'UCF101/v_BandMarching_g07_c02.avi', 'UCF101/v_BandMarching_g07_c03.avi', 'UCF101/v_BandMarching_g07_c04.avi', 'UCF101/v_BandMarching_g07_c05.avi', 'UCF101/v_BandMarching_g07_c06.avi', 'UCF101/v_BandMarching_g07_c07.avi', 'UCF101/v_BandMarching_g08_c01.avi', 'UCF101/v_BandMarching_g08_c02.avi', 'UCF101/v_BandMarching_g08_c03.avi', 'UCF101/v_BandMarching_g08_c04.avi', 'UCF101/v_BandMarching_g08_c05.avi', 'UCF101/v_BandMarching_g08_c06.avi', 'UCF101/v_BandMarching_g08_c07.avi'], 'BaseballPitch': ['UCF101/v_BaseballPitch_g01_c01.avi', 'UCF101/v_BaseballPitch_g01_c02.avi', 'UCF101/v_BaseballPitch_g01_c03.avi', 'UCF101/v_BaseballPitch_g01_c04.avi', 'UCF101/v_BaseballPitch_g01_c05.avi', 'UCF101/v_BaseballPitch_g01_c06.avi', 'UCF101/v_BaseballPitch_g02_c01.avi', 'UCF101/v_BaseballPitch_g02_c02.avi', 'UCF101/v_BaseballPitch_g02_c03.avi', 'UCF101/v_BaseballPitch_g02_c04.avi', 'UCF101/v_BaseballPitch_g03_c01.avi', 'UCF101/v_BaseballPitch_g03_c02.avi', 'UCF101/v_BaseballPitch_g03_c03.avi', 'UCF101/v_BaseballPitch_g03_c04.avi', 'UCF101/v_BaseballPitch_g03_c05.avi', 'UCF101/v_BaseballPitch_g03_c06.avi', 'UCF101/v_BaseballPitch_g03_c07.avi', 'UCF101/v_BaseballPitch_g04_c01.avi', 'UCF101/v_BaseballPitch_g04_c02.avi', 'UCF101/v_BaseballPitch_g04_c03.avi', 'UCF101/v_BaseballPitch_g04_c04.avi', 'UCF101/v_BaseballPitch_g04_c05.avi', 'UCF101/v_BaseballPitch_g05_c01.avi', 'UCF101/v_BaseballPitch_g05_c02.avi', 'UCF101/v_BaseballPitch_g05_c03.avi', 'UCF101/v_BaseballPitch_g05_c04.avi', 'UCF101/v_BaseballPitch_g05_c05.avi', 'UCF101/v_BaseballPitch_g05_c06.avi', 'UCF101/v_BaseballPitch_g05_c07.avi', 'UCF101/v_BaseballPitch_g06_c01.avi', 'UCF101/v_BaseballPitch_g06_c02.avi', 'UCF101/v_BaseballPitch_g06_c03.avi', 'UCF101/v_BaseballPitch_g06_c04.avi', 'UCF101/v_BaseballPitch_g06_c05.avi', 'UCF101/v_BaseballPitch_g06_c06.avi', 'UCF101/v_BaseballPitch_g06_c07.avi', 'UCF101/v_BaseballPitch_g07_c01.avi', 'UCF101/v_BaseballPitch_g07_c02.avi', 'UCF101/v_BaseballPitch_g07_c03.avi', 'UCF101/v_BaseballPitch_g07_c04.avi', 'UCF101/v_BaseballPitch_g07_c05.avi', 'UCF101/v_BaseballPitch_g07_c06.avi', 'UCF101/v_BaseballPitch_g07_c07.avi', 'UCF101/v_BaseballPitch_g08_c01.avi', 'UCF101/v_BaseballPitch_g08_c02.avi', 'UCF101/v_BaseballPitch_g08_c03.avi', 'UCF101/v_BaseballPitch_g08_c04.avi', 'UCF101/v_BaseballPitch_g08_c05.avi', 'UCF101/v_BaseballPitch_g08_c06.avi', 'UCF101/v_BaseballPitch_g08_c07.avi'], 'BasketballDunk': ['UCF101/v_BasketballDunk_g01_c01.avi', 'UCF101/v_BasketballDunk_g01_c02.avi', 'UCF101/v_BasketballDunk_g01_c03.avi', 'UCF101/v_BasketballDunk_g01_c04.avi', 'UCF101/v_BasketballDunk_g01_c05.avi', 'UCF101/v_BasketballDunk_g01_c06.avi', 'UCF101/v_BasketballDunk_g01_c07.avi', 'UCF101/v_BasketballDunk_g02_c01.avi', 'UCF101/v_BasketballDunk_g02_c02.avi', 'UCF101/v_BasketballDunk_g02_c03.avi', 'UCF101/v_BasketballDunk_g02_c04.avi', 'UCF101/v_BasketballDunk_g03_c01.avi', 'UCF101/v_BasketballDunk_g03_c02.avi', 'UCF101/v_BasketballDunk_g03_c03.avi', 'UCF101/v_BasketballDunk_g03_c04.avi', 'UCF101/v_BasketballDunk_g03_c05.avi', 'UCF101/v_BasketballDunk_g03_c06.avi', 'UCF101/v_BasketballDunk_g04_c01.avi', 'UCF101/v_BasketballDunk_g04_c02.avi', 'UCF101/v_BasketballDunk_g04_c03.avi', 'UCF101/v_BasketballDunk_g04_c04.avi', 'UCF101/v_BasketballDunk_g05_c01.avi', 'UCF101/v_BasketballDunk_g05_c02.avi', 'UCF101/v_BasketballDunk_g05_c03.avi', 'UCF101/v_BasketballDunk_g05_c04.avi', 'UCF101/v_BasketballDunk_g05_c05.avi', 'UCF101/v_BasketballDunk_g05_c06.avi', 'UCF101/v_BasketballDunk_g06_c01.avi', 'UCF101/v_BasketballDunk_g06_c02.avi', 'UCF101/v_BasketballDunk_g06_c03.avi', 'UCF101/v_BasketballDunk_g06_c04.avi', 'UCF101/v_BasketballDunk_g07_c01.avi', 'UCF101/v_BasketballDunk_g07_c02.avi', 'UCF101/v_BasketballDunk_g07_c03.avi', 'UCF101/v_BasketballDunk_g07_c04.avi', 'UCF101/v_BasketballDunk_g07_c05.avi', 'UCF101/v_BasketballDunk_g07_c06.avi', 'UCF101/v_BasketballDunk_g08_c01.avi', 'UCF101/v_BasketballDunk_g08_c02.avi', 'UCF101/v_BasketballDunk_g08_c03.avi', 'UCF101/v_BasketballDunk_g08_c04.avi', 'UCF101/v_BasketballDunk_g08_c05.avi', 'UCF101/v_BasketballDunk_g09_c01.avi', 'UCF101/v_BasketballDunk_g09_c02.avi', 'UCF101/v_BasketballDunk_g09_c03.avi', 'UCF101/v_BasketballDunk_g09_c04.avi', 'UCF101/v_BasketballDunk_g09_c05.avi', 'UCF101/v_BasketballDunk_g10_c01.avi', 'UCF101/v_BasketballDunk_g10_c02.avi', 'UCF101/v_BasketballDunk_g10_c03.avi'], 'Basketball': ['UCF101/v_Basketball_g01_c01.avi', 'UCF101/v_Basketball_g01_c02.avi', 'UCF101/v_Basketball_g01_c03.avi', 'UCF101/v_Basketball_g01_c04.avi', 'UCF101/v_Basketball_g01_c05.avi', 'UCF101/v_Basketball_g01_c06.avi', 'UCF101/v_Basketball_g01_c07.avi', 'UCF101/v_Basketball_g02_c01.avi', 'UCF101/v_Basketball_g02_c02.avi', 'UCF101/v_Basketball_g02_c03.avi', 'UCF101/v_Basketball_g02_c04.avi', 'UCF101/v_Basketball_g02_c05.avi', 'UCF101/v_Basketball_g02_c06.avi', 'UCF101/v_Basketball_g03_c01.avi', 'UCF101/v_Basketball_g03_c02.avi', 'UCF101/v_Basketball_g03_c03.avi', 'UCF101/v_Basketball_g03_c04.avi', 'UCF101/v_Basketball_g03_c05.avi', 'UCF101/v_Basketball_g03_c06.avi', 'UCF101/v_Basketball_g04_c01.avi', 'UCF101/v_Basketball_g04_c02.avi', 'UCF101/v_Basketball_g04_c03.avi', 'UCF101/v_Basketball_g04_c04.avi', 'UCF101/v_Basketball_g05_c01.avi', 'UCF101/v_Basketball_g05_c02.avi', 'UCF101/v_Basketball_g05_c03.avi', 'UCF101/v_Basketball_g05_c04.avi', 'UCF101/v_Basketball_g06_c01.avi', 'UCF101/v_Basketball_g06_c02.avi', 'UCF101/v_Basketball_g06_c03.avi', 'UCF101/v_Basketball_g06_c04.avi', 'UCF101/v_Basketball_g07_c01.avi', 'UCF101/v_Basketball_g07_c02.avi', 'UCF101/v_Basketball_g07_c03.avi', 'UCF101/v_Basketball_g07_c04.avi', 'UCF101/v_Basketball_g08_c01.avi', 'UCF101/v_Basketball_g08_c02.avi', 'UCF101/v_Basketball_g08_c03.avi', 'UCF101/v_Basketball_g08_c04.avi', 'UCF101/v_Basketball_g09_c01.avi', 'UCF101/v_Basketball_g09_c02.avi', 'UCF101/v_Basketball_g09_c03.avi', 'UCF101/v_Basketball_g09_c04.avi', 'UCF101/v_Basketball_g09_c05.avi', 'UCF101/v_Basketball_g10_c01.avi', 'UCF101/v_Basketball_g10_c02.avi', 'UCF101/v_Basketball_g10_c03.avi', 'UCF101/v_Basketball_g10_c04.avi', 'UCF101/v_Basketball_g10_c05.avi', 'UCF101/v_Basketball_g11_c01.avi'], 'BenchPress': ['UCF101/v_BenchPress_g01_c01.avi', 'UCF101/v_BenchPress_g01_c02.avi', 'UCF101/v_BenchPress_g01_c03.avi', 'UCF101/v_BenchPress_g01_c04.avi', 'UCF101/v_BenchPress_g01_c05.avi', 'UCF101/v_BenchPress_g01_c06.avi', 'UCF101/v_BenchPress_g02_c01.avi', 'UCF101/v_BenchPress_g02_c02.avi', 'UCF101/v_BenchPress_g02_c03.avi', 'UCF101/v_BenchPress_g02_c04.avi', 'UCF101/v_BenchPress_g02_c05.avi', 'UCF101/v_BenchPress_g02_c06.avi', 'UCF101/v_BenchPress_g02_c07.avi', 'UCF101/v_BenchPress_g03_c01.avi', 'UCF101/v_BenchPress_g03_c02.avi', 'UCF101/v_BenchPress_g03_c03.avi', 'UCF101/v_BenchPress_g03_c04.avi', 'UCF101/v_BenchPress_g03_c05.avi', 'UCF101/v_BenchPress_g03_c06.avi', 'UCF101/v_BenchPress_g03_c07.avi', 'UCF101/v_BenchPress_g04_c01.avi', 'UCF101/v_BenchPress_g04_c02.avi', 'UCF101/v_BenchPress_g04_c03.avi', 'UCF101/v_BenchPress_g04_c04.avi', 'UCF101/v_BenchPress_g04_c05.avi', 'UCF101/v_BenchPress_g04_c06.avi', 'UCF101/v_BenchPress_g04_c07.avi', 'UCF101/v_BenchPress_g05_c01.avi', 'UCF101/v_BenchPress_g05_c02.avi', 'UCF101/v_BenchPress_g05_c03.avi', 'UCF101/v_BenchPress_g05_c04.avi', 'UCF101/v_BenchPress_g05_c05.avi', 'UCF101/v_BenchPress_g05_c06.avi', 'UCF101/v_BenchPress_g05_c07.avi', 'UCF101/v_BenchPress_g06_c01.avi', 'UCF101/v_BenchPress_g06_c02.avi', 'UCF101/v_BenchPress_g06_c03.avi', 'UCF101/v_BenchPress_g06_c04.avi', 'UCF101/v_BenchPress_g06_c05.avi', 'UCF101/v_BenchPress_g06_c06.avi', 'UCF101/v_BenchPress_g06_c07.avi', 'UCF101/v_BenchPress_g07_c01.avi', 'UCF101/v_BenchPress_g07_c02.avi', 'UCF101/v_BenchPress_g07_c03.avi', 'UCF101/v_BenchPress_g07_c04.avi', 'UCF101/v_BenchPress_g07_c05.avi', 'UCF101/v_BenchPress_g07_c06.avi', 'UCF101/v_BenchPress_g07_c07.avi', 'UCF101/v_BenchPress_g08_c01.avi', 'UCF101/v_BenchPress_g08_c02.avi']}\n"
          ]
        }
      ]
    },
    {
      "cell_type": "code",
      "source": [
        "def download_ucf_101_subset(zip_url, num_classes, splits, download_dir):\n",
        "    \"\"\" Download a subset of the UCF101 dataset and split them into various parts, such as\n",
        "        training, validation, and test.\n",
        "\n",
        "        Args:\n",
        "          zip_url: A URL with a ZIP file containing data.\n",
        "          num_classes: Number of classes to use.\n",
        "          splits: Dictionary specifying the training, validation, test, etc. (key) division of data\n",
        "                  (value is number of files per split).\n",
        "          download_dir: Directory to download data to.\n",
        "\n",
        "        Return:\n",
        "          Mapping of the directories containing the subsections of data.\n",
        "    \"\"\"\n",
        "    files = list_files_from_zip_url(zip_url)\n",
        "    for f in files:\n",
        "        path = os.path.normpath(f)\n",
        "        tokens = path.split(os.sep)\n",
        "        if len(tokens) <= 2:\n",
        "            files.remove(f)  # Remove that item from the list if it doesn't have a filename\n",
        "\n",
        "    files_for_class = get_files_per_class(files)\n",
        "    classes = list(files_for_class.keys())[:num_classes]\n",
        "\n",
        "    # Shuffle classes\n",
        "    for cls in classes:\n",
        "        random.shuffle(files_for_class[cls])\n",
        "\n",
        "    # Use only the classes we want\n",
        "    files_for_class = {x: files_for_class[x] for x in classes}\n",
        "\n",
        "    dirs = {}\n",
        "    for split_name, split_count in splits.items():\n",
        "        print(split_name, \":\")\n",
        "        split_dir = download_dir / split_name\n",
        "        split_files, files_for_class = split_class_lists(files_for_class, split_count)\n",
        "        download_from_zip(zip_url, split_dir, split_files)\n",
        "        dirs[split_name] = split_dir\n",
        "\n",
        "    return dirs\n"
      ],
      "metadata": {
        "id": "2xuWO3UAjwo5"
      },
      "execution_count": 8,
      "outputs": []
    },
    {
      "cell_type": "code",
      "source": [
        "def split_class_lists(files_for_class, count):\n",
        "    \"\"\" Returns the list of files belonging to a subset of data as well as the remainder of\n",
        "        files that need to be downloaded.\n",
        "\n",
        "        Args:\n",
        "          files_for_class: Files belonging to a particular class of data.\n",
        "          count: Number of files to download.\n",
        "\n",
        "        Returns:\n",
        "          Files belonging to the subset of data and dictionary of the remainder of files that need to be downloaded.\n",
        "    \"\"\"\n",
        "    split_files = []\n",
        "    remainder = {}\n",
        "    for cls in files_for_class:\n",
        "        split_files.extend(files_for_class[cls][:count])  # Select the first 'count' files for each class\n",
        "        remainder[cls] = files_for_class[cls][count:]  # Remaining files\n",
        "    return split_files, remainder\n"
      ],
      "metadata": {
        "id": "ELYl-7mPkMlS"
      },
      "execution_count": 10,
      "outputs": []
    },
    {
      "cell_type": "code",
      "source": [
        "download_dir = pathlib.Path('./UCF101_subset/')\n",
        "subset_paths = download_ucf_101_subset(URL,\n",
        "                                       num_classes=NUM_CLASSES,\n",
        "                                       splits={\"train\": 30, \"val\": 10, \"test\": 10},\n",
        "                                       download_dir=download_dir)\n"
      ],
      "metadata": {
        "colab": {
          "base_uri": "https://localhost:8080/"
        },
        "id": "MSId6NiQkVEs",
        "outputId": "2b17701c-e668-46be-e2c2-02c57c016acd"
      },
      "execution_count": 11,
      "outputs": [
        {
          "output_type": "stream",
          "name": "stdout",
          "text": [
            "train :\n"
          ]
        },
        {
          "output_type": "stream",
          "name": "stderr",
          "text": [
            "100%|██████████| 300/300 [00:28<00:00, 10.63it/s]\n"
          ]
        },
        {
          "output_type": "stream",
          "name": "stdout",
          "text": [
            "val :\n"
          ]
        },
        {
          "output_type": "stream",
          "name": "stderr",
          "text": [
            "100%|██████████| 100/100 [00:07<00:00, 12.66it/s]\n"
          ]
        },
        {
          "output_type": "stream",
          "name": "stdout",
          "text": [
            "test :\n"
          ]
        },
        {
          "output_type": "stream",
          "name": "stderr",
          "text": [
            "100%|██████████| 100/100 [00:06<00:00, 15.55it/s]\n"
          ]
        }
      ]
    },
    {
      "cell_type": "code",
      "source": [],
      "metadata": {
        "id": "1LAzGnCHkX-A"
      },
      "execution_count": null,
      "outputs": []
    }
  ]
}