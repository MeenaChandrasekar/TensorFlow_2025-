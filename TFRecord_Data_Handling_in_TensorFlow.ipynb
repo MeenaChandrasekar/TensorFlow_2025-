{
  "nbformat": 4,
  "nbformat_minor": 0,
  "metadata": {
    "colab": {
      "provenance": []
    },
    "kernelspec": {
      "name": "python3",
      "display_name": "Python 3"
    },
    "language_info": {
      "name": "python"
    }
  },
  "cells": [
    {
      "cell_type": "code",
      "execution_count": 1,
      "metadata": {
        "id": "nU4MKy0Ef7AR"
      },
      "outputs": [],
      "source": [
        "import tensorflow as tf\n",
        "import numpy as np\n",
        "import os\n"
      ]
    },
    {
      "cell_type": "code",
      "source": [
        "# Number of samples\n",
        "n_samples = 10\n",
        "\n",
        "# Sample features\n",
        "feature0 = np.random.choice([False, True], n_samples)  # Boolean feature\n",
        "feature1 = np.random.randint(0, 5, n_samples)  # Integer feature\n",
        "feature2 = np.array([b'cat', b'dog', b'bird', b'fish', b'horse'])[feature1]  # String feature\n",
        "feature3 = np.random.randn(n_samples)  # Float feature\n"
      ],
      "metadata": {
        "id": "9dtN6dZMf7fH"
      },
      "execution_count": 2,
      "outputs": []
    },
    {
      "cell_type": "code",
      "source": [
        "def _bytes_feature(value):\n",
        "    \"\"\"Returns a bytes_list from a string / byte.\"\"\"\n",
        "    return tf.train.Feature(bytes_list=tf.train.BytesList(value=[value]))\n",
        "\n",
        "def _float_feature(value):\n",
        "    \"\"\"Returns a float_list from a float / double.\"\"\"\n",
        "    return tf.train.Feature(float_list=tf.train.FloatList(value=[value]))\n",
        "\n",
        "def _int64_feature(value):\n",
        "    \"\"\"Returns an int64_list from a bool / enum / int / uint.\"\"\"\n",
        "    return tf.train.Feature(int64_list=tf.train.Int64List(value=[value]))\n",
        "\n",
        "# Function to create a tf.train.Example\n",
        "def serialize_example(feature0, feature1, feature2, feature3):\n",
        "    feature = {\n",
        "        'feature0': _int64_feature(feature0),\n",
        "        'feature1': _int64_feature(feature1),\n",
        "        'feature2': _bytes_feature(feature2),\n",
        "        'feature3': _float_feature(feature3),\n",
        "    }\n",
        "    example_proto = tf.train.Example(features=tf.train.Features(feature=feature))\n",
        "    return example_proto.SerializeToString()\n"
      ],
      "metadata": {
        "id": "_4nUDkZXgEBA"
      },
      "execution_count": 3,
      "outputs": []
    },
    {
      "cell_type": "code",
      "source": [
        "tfrecord_file = \"data.tfrecord\"\n",
        "\n",
        "# Write the data to TFRecord file\n",
        "with tf.io.TFRecordWriter(tfrecord_file) as writer:\n",
        "    for i in range(n_samples):\n",
        "        example = serialize_example(feature0[i], feature1[i], feature2[i], feature3[i])\n",
        "        writer.write(example)\n"
      ],
      "metadata": {
        "colab": {
          "base_uri": "https://localhost:8080/"
        },
        "id": "sktw8ZHvgH5H",
        "outputId": "a220d2be-5208-4fa4-fe5a-ae8d9f6c156a"
      },
      "execution_count": 4,
      "outputs": [
        {
          "output_type": "stream",
          "name": "stderr",
          "text": [
            "<ipython-input-3-669abe5848e1>:11: DeprecationWarning: In future, it will be an error for 'np.bool_' scalars to be interpreted as an index\n",
            "  return tf.train.Feature(int64_list=tf.train.Int64List(value=[value]))\n"
          ]
        }
      ]
    },
    {
      "cell_type": "code",
      "source": [],
      "metadata": {
        "id": "9hPVm_jVgNHM"
      },
      "execution_count": null,
      "outputs": []
    },
    {
      "cell_type": "code",
      "source": [
        "# Read TFRecord File\n",
        "raw_dataset = tf.data.TFRecordDataset(tfrecord_file)\n",
        "\n",
        "# Function to parse the TFRecord example\n",
        "def parse_example(example_proto):\n",
        "    feature_description = {\n",
        "        'feature0': tf.io.FixedLenFeature([], tf.int64),\n",
        "        'feature1': tf.io.FixedLenFeature([], tf.int64),\n",
        "        'feature2': tf.io.FixedLenFeature([], tf.string),\n",
        "        'feature3': tf.io.FixedLenFeature([], tf.float32),\n",
        "    }\n",
        "    return tf.io.parse_single_example(example_proto, feature_description)\n",
        "\n",
        "# Apply the parsing function\n",
        "parsed_dataset = raw_dataset.map(parse_example)\n",
        "\n",
        "# Print some sample data\n",
        "for parsed_record in parsed_dataset.take(5):\n",
        "    print(parsed_record)\n"
      ],
      "metadata": {
        "colab": {
          "base_uri": "https://localhost:8080/"
        },
        "id": "SgO7l-oIgRGp",
        "outputId": "3f6104e6-61f6-4c38-869a-c7b708e887c3"
      },
      "execution_count": 5,
      "outputs": [
        {
          "output_type": "stream",
          "name": "stdout",
          "text": [
            "{'feature0': <tf.Tensor: shape=(), dtype=int64, numpy=1>, 'feature1': <tf.Tensor: shape=(), dtype=int64, numpy=1>, 'feature2': <tf.Tensor: shape=(), dtype=string, numpy=b'dog'>, 'feature3': <tf.Tensor: shape=(), dtype=float32, numpy=0.58739126>}\n",
            "{'feature0': <tf.Tensor: shape=(), dtype=int64, numpy=0>, 'feature1': <tf.Tensor: shape=(), dtype=int64, numpy=2>, 'feature2': <tf.Tensor: shape=(), dtype=string, numpy=b'bird'>, 'feature3': <tf.Tensor: shape=(), dtype=float32, numpy=0.3632374>}\n",
            "{'feature0': <tf.Tensor: shape=(), dtype=int64, numpy=0>, 'feature1': <tf.Tensor: shape=(), dtype=int64, numpy=1>, 'feature2': <tf.Tensor: shape=(), dtype=string, numpy=b'dog'>, 'feature3': <tf.Tensor: shape=(), dtype=float32, numpy=-1.8765284>}\n",
            "{'feature0': <tf.Tensor: shape=(), dtype=int64, numpy=1>, 'feature1': <tf.Tensor: shape=(), dtype=int64, numpy=3>, 'feature2': <tf.Tensor: shape=(), dtype=string, numpy=b'fish'>, 'feature3': <tf.Tensor: shape=(), dtype=float32, numpy=-0.87273574>}\n",
            "{'feature0': <tf.Tensor: shape=(), dtype=int64, numpy=1>, 'feature1': <tf.Tensor: shape=(), dtype=int64, numpy=4>, 'feature2': <tf.Tensor: shape=(), dtype=string, numpy=b'horse'>, 'feature3': <tf.Tensor: shape=(), dtype=float32, numpy=-0.45501417>}\n"
          ]
        }
      ]
    },
    {
      "cell_type": "code",
      "source": [],
      "metadata": {
        "id": "w9yfDPtcgRzv"
      },
      "execution_count": null,
      "outputs": []
    },
    {
      "cell_type": "code",
      "source": [
        "BATCH_SIZE = 2\n",
        "dataset = parsed_dataset.shuffle(10).batch(BATCH_SIZE)\n",
        "\n",
        "# Example: Iterating through batches\n",
        "for batch in dataset:\n",
        "    print(batch)\n"
      ],
      "metadata": {
        "colab": {
          "base_uri": "https://localhost:8080/"
        },
        "id": "KavuTFaogVe_",
        "outputId": "fa355bde-d91a-4db9-8a81-36c6ba45a58f"
      },
      "execution_count": 6,
      "outputs": [
        {
          "output_type": "stream",
          "name": "stdout",
          "text": [
            "{'feature0': <tf.Tensor: shape=(2,), dtype=int64, numpy=array([1, 1])>, 'feature1': <tf.Tensor: shape=(2,), dtype=int64, numpy=array([4, 3])>, 'feature2': <tf.Tensor: shape=(2,), dtype=string, numpy=array([b'horse', b'fish'], dtype=object)>, 'feature3': <tf.Tensor: shape=(2,), dtype=float32, numpy=array([ 0.23574543, -0.87273574], dtype=float32)>}\n",
            "{'feature0': <tf.Tensor: shape=(2,), dtype=int64, numpy=array([0, 1])>, 'feature1': <tf.Tensor: shape=(2,), dtype=int64, numpy=array([0, 1])>, 'feature2': <tf.Tensor: shape=(2,), dtype=string, numpy=array([b'cat', b'dog'], dtype=object)>, 'feature3': <tf.Tensor: shape=(2,), dtype=float32, numpy=array([-0.9145783 ,  0.58739126], dtype=float32)>}\n",
            "{'feature0': <tf.Tensor: shape=(2,), dtype=int64, numpy=array([0, 0])>, 'feature1': <tf.Tensor: shape=(2,), dtype=int64, numpy=array([1, 2])>, 'feature2': <tf.Tensor: shape=(2,), dtype=string, numpy=array([b'dog', b'bird'], dtype=object)>, 'feature3': <tf.Tensor: shape=(2,), dtype=float32, numpy=array([-1.8765284,  0.3632374], dtype=float32)>}\n",
            "{'feature0': <tf.Tensor: shape=(2,), dtype=int64, numpy=array([1, 0])>, 'feature1': <tf.Tensor: shape=(2,), dtype=int64, numpy=array([0, 4])>, 'feature2': <tf.Tensor: shape=(2,), dtype=string, numpy=array([b'cat', b'horse'], dtype=object)>, 'feature3': <tf.Tensor: shape=(2,), dtype=float32, numpy=array([0.79233176, 0.6251192 ], dtype=float32)>}\n",
            "{'feature0': <tf.Tensor: shape=(2,), dtype=int64, numpy=array([0, 1])>, 'feature1': <tf.Tensor: shape=(2,), dtype=int64, numpy=array([2, 4])>, 'feature2': <tf.Tensor: shape=(2,), dtype=string, numpy=array([b'bird', b'horse'], dtype=object)>, 'feature3': <tf.Tensor: shape=(2,), dtype=float32, numpy=array([ 0.51553434, -0.45501417], dtype=float32)>}\n"
          ]
        }
      ]
    },
    {
      "cell_type": "code",
      "source": [],
      "metadata": {
        "id": "TQ6fQoXOgV3e"
      },
      "execution_count": null,
      "outputs": []
    },
    {
      "cell_type": "code",
      "source": [],
      "metadata": {
        "id": "mKc23DgOgXZ9"
      },
      "execution_count": null,
      "outputs": []
    }
  ]
}